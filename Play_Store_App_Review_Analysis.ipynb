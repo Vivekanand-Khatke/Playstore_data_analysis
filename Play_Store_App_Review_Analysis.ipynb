{
  "nbformat": 4,
  "nbformat_minor": 0,
  "metadata": {
    "kernelspec": {
      "display_name": "Python 3",
      "language": "python",
      "name": "python3"
    },
    "language_info": {
      "codemirror_mode": {
        "name": "ipython",
        "version": 3
      },
      "file_extension": ".py",
      "mimetype": "text/x-python",
      "name": "python",
      "nbconvert_exporter": "python",
      "pygments_lexer": "ipython3",
      "version": "3.6.6"
    },
    "colab": {
      "name": "Play_Store_App_Review_Analysis.ipynb",
      "provenance": [],
      "collapsed_sections": [],
      "include_colab_link": true
    }
  },
  "cells": [
    {
      "cell_type": "markdown",
      "metadata": {
        "id": "view-in-github",
        "colab_type": "text"
      },
      "source": [
        "<a href=\"https://colab.research.google.com/github/Vivekanand-Khatke/Playstore_data_analysis/blob/main/Play_Store_App_Review_Analysis.ipynb\" target=\"_parent\"><img src=\"https://colab.research.google.com/assets/colab-badge.svg\" alt=\"Open In Colab\"/></a>"
      ]
    },
    {
      "cell_type": "markdown",
      "metadata": {
        "id": "Y06xIdG26kRF"
      },
      "source": [
        "## <b> The Play Store apps data has enormous potential to drive app-making businesses to success. Actionable insights can be drawn for developers to work on and capture the Android market. </b>\n",
        "\n",
        "## <b> Each app (row) has values for catergory, rating, size, and more. Another dataset contains customer reviews of the android apps.</b>\n",
        "\n",
        "## <b> Explore and analyze the data to discover key factors responsible for app engagement and success. </b>"
      ]
    },
    {
      "cell_type": "markdown",
      "metadata": {
        "id": "JWAjDUXPkLqJ"
      },
      "source": [
        "#Importing all the essential liabraries"
      ]
    },
    {
      "cell_type": "code",
      "metadata": {
        "id": "dByMsuzT8Tnw"
      },
      "source": [
        "import pandas as pd\n",
        "import numpy as np\n",
        "import matplotlib.pyplot as plt\n",
        "import seaborn as sns\n",
        "%matplotlib inline"
      ],
      "execution_count": null,
      "outputs": []
    },
    {
      "cell_type": "markdown",
      "metadata": {
        "id": "Piumoi-ukkXb"
      },
      "source": [
        "#Reading the files"
      ]
    },
    {
      "cell_type": "code",
      "metadata": {
        "colab": {
          "base_uri": "https://localhost:8080/"
        },
        "id": "ytneJvz1PDoG",
        "outputId": "8c3d1a14-aa8b-4186-cc07-ca707c177f49"
      },
      "source": [
        "from google.colab import drive\n",
        "drive.mount('/content/drive')"
      ],
      "execution_count": null,
      "outputs": [
        {
          "output_type": "stream",
          "name": "stdout",
          "text": [
            "Mounted at /content/drive\n"
          ]
        }
      ]
    },
    {
      "cell_type": "code",
      "metadata": {
        "id": "81uXmb7iPUXQ"
      },
      "source": [
        "working_dir_path=\"/content/drive/MyDrive/Colab Notebooks/Capstone projects/Playstore app/\"\n",
        "play_store_data=pd.read_csv(working_dir_path + 'Play Store Data.csv')"
      ],
      "execution_count": null,
      "outputs": []
    },
    {
      "cell_type": "markdown",
      "metadata": {
        "id": "eI09jOF0wPUi"
      },
      "source": [
        "#Data Exploration"
      ]
    },
    {
      "cell_type": "code",
      "metadata": {
        "colab": {
          "base_uri": "https://localhost:8080/",
          "height": 397
        },
        "id": "x8jdjosekikm",
        "outputId": "e2f04b99-5732-4e8a-a9f7-fb4adad381fc"
      },
      "source": [
        "play_store_data.head()"
      ],
      "execution_count": null,
      "outputs": [
        {
          "output_type": "execute_result",
          "data": {
            "text/html": [
              "<div>\n",
              "<style scoped>\n",
              "    .dataframe tbody tr th:only-of-type {\n",
              "        vertical-align: middle;\n",
              "    }\n",
              "\n",
              "    .dataframe tbody tr th {\n",
              "        vertical-align: top;\n",
              "    }\n",
              "\n",
              "    .dataframe thead th {\n",
              "        text-align: right;\n",
              "    }\n",
              "</style>\n",
              "<table border=\"1\" class=\"dataframe\">\n",
              "  <thead>\n",
              "    <tr style=\"text-align: right;\">\n",
              "      <th></th>\n",
              "      <th>App</th>\n",
              "      <th>Category</th>\n",
              "      <th>Rating</th>\n",
              "      <th>Reviews</th>\n",
              "      <th>Size</th>\n",
              "      <th>Installs</th>\n",
              "      <th>Type</th>\n",
              "      <th>Price</th>\n",
              "      <th>Content Rating</th>\n",
              "      <th>Genres</th>\n",
              "      <th>Last Updated</th>\n",
              "      <th>Current Ver</th>\n",
              "      <th>Android Ver</th>\n",
              "    </tr>\n",
              "  </thead>\n",
              "  <tbody>\n",
              "    <tr>\n",
              "      <th>0</th>\n",
              "      <td>Photo Editor &amp; Candy Camera &amp; Grid &amp; ScrapBook</td>\n",
              "      <td>ART_AND_DESIGN</td>\n",
              "      <td>4.1</td>\n",
              "      <td>159</td>\n",
              "      <td>19M</td>\n",
              "      <td>10,000+</td>\n",
              "      <td>Free</td>\n",
              "      <td>0</td>\n",
              "      <td>Everyone</td>\n",
              "      <td>Art &amp; Design</td>\n",
              "      <td>January 7, 2018</td>\n",
              "      <td>1.0.0</td>\n",
              "      <td>4.0.3 and up</td>\n",
              "    </tr>\n",
              "    <tr>\n",
              "      <th>1</th>\n",
              "      <td>Coloring book moana</td>\n",
              "      <td>ART_AND_DESIGN</td>\n",
              "      <td>3.9</td>\n",
              "      <td>967</td>\n",
              "      <td>14M</td>\n",
              "      <td>500,000+</td>\n",
              "      <td>Free</td>\n",
              "      <td>0</td>\n",
              "      <td>Everyone</td>\n",
              "      <td>Art &amp; Design;Pretend Play</td>\n",
              "      <td>January 15, 2018</td>\n",
              "      <td>2.0.0</td>\n",
              "      <td>4.0.3 and up</td>\n",
              "    </tr>\n",
              "    <tr>\n",
              "      <th>2</th>\n",
              "      <td>U Launcher Lite – FREE Live Cool Themes, Hide ...</td>\n",
              "      <td>ART_AND_DESIGN</td>\n",
              "      <td>4.7</td>\n",
              "      <td>87510</td>\n",
              "      <td>8.7M</td>\n",
              "      <td>5,000,000+</td>\n",
              "      <td>Free</td>\n",
              "      <td>0</td>\n",
              "      <td>Everyone</td>\n",
              "      <td>Art &amp; Design</td>\n",
              "      <td>August 1, 2018</td>\n",
              "      <td>1.2.4</td>\n",
              "      <td>4.0.3 and up</td>\n",
              "    </tr>\n",
              "    <tr>\n",
              "      <th>3</th>\n",
              "      <td>Sketch - Draw &amp; Paint</td>\n",
              "      <td>ART_AND_DESIGN</td>\n",
              "      <td>4.5</td>\n",
              "      <td>215644</td>\n",
              "      <td>25M</td>\n",
              "      <td>50,000,000+</td>\n",
              "      <td>Free</td>\n",
              "      <td>0</td>\n",
              "      <td>Teen</td>\n",
              "      <td>Art &amp; Design</td>\n",
              "      <td>June 8, 2018</td>\n",
              "      <td>Varies with device</td>\n",
              "      <td>4.2 and up</td>\n",
              "    </tr>\n",
              "    <tr>\n",
              "      <th>4</th>\n",
              "      <td>Pixel Draw - Number Art Coloring Book</td>\n",
              "      <td>ART_AND_DESIGN</td>\n",
              "      <td>4.3</td>\n",
              "      <td>967</td>\n",
              "      <td>2.8M</td>\n",
              "      <td>100,000+</td>\n",
              "      <td>Free</td>\n",
              "      <td>0</td>\n",
              "      <td>Everyone</td>\n",
              "      <td>Art &amp; Design;Creativity</td>\n",
              "      <td>June 20, 2018</td>\n",
              "      <td>1.1</td>\n",
              "      <td>4.4 and up</td>\n",
              "    </tr>\n",
              "  </tbody>\n",
              "</table>\n",
              "</div>"
            ],
            "text/plain": [
              "                                                 App  ...   Android Ver\n",
              "0     Photo Editor & Candy Camera & Grid & ScrapBook  ...  4.0.3 and up\n",
              "1                                Coloring book moana  ...  4.0.3 and up\n",
              "2  U Launcher Lite – FREE Live Cool Themes, Hide ...  ...  4.0.3 and up\n",
              "3                              Sketch - Draw & Paint  ...    4.2 and up\n",
              "4              Pixel Draw - Number Art Coloring Book  ...    4.4 and up\n",
              "\n",
              "[5 rows x 13 columns]"
            ]
          },
          "metadata": {},
          "execution_count": 11
        }
      ]
    },
    {
      "cell_type": "code",
      "metadata": {
        "colab": {
          "base_uri": "https://localhost:8080/",
          "height": 380
        },
        "id": "E2PRypodwi9b",
        "outputId": "ab38cc3e-7f95-4533-d4da-3e7b580bca3c"
      },
      "source": [
        "play_store_data.tail()"
      ],
      "execution_count": null,
      "outputs": [
        {
          "output_type": "execute_result",
          "data": {
            "text/html": [
              "<div>\n",
              "<style scoped>\n",
              "    .dataframe tbody tr th:only-of-type {\n",
              "        vertical-align: middle;\n",
              "    }\n",
              "\n",
              "    .dataframe tbody tr th {\n",
              "        vertical-align: top;\n",
              "    }\n",
              "\n",
              "    .dataframe thead th {\n",
              "        text-align: right;\n",
              "    }\n",
              "</style>\n",
              "<table border=\"1\" class=\"dataframe\">\n",
              "  <thead>\n",
              "    <tr style=\"text-align: right;\">\n",
              "      <th></th>\n",
              "      <th>App</th>\n",
              "      <th>Category</th>\n",
              "      <th>Rating</th>\n",
              "      <th>Reviews</th>\n",
              "      <th>Size</th>\n",
              "      <th>Installs</th>\n",
              "      <th>Type</th>\n",
              "      <th>Price</th>\n",
              "      <th>Content Rating</th>\n",
              "      <th>Genres</th>\n",
              "      <th>Last Updated</th>\n",
              "      <th>Current Ver</th>\n",
              "      <th>Android Ver</th>\n",
              "    </tr>\n",
              "  </thead>\n",
              "  <tbody>\n",
              "    <tr>\n",
              "      <th>10836</th>\n",
              "      <td>Sya9a Maroc - FR</td>\n",
              "      <td>FAMILY</td>\n",
              "      <td>4.5</td>\n",
              "      <td>38</td>\n",
              "      <td>53M</td>\n",
              "      <td>5,000+</td>\n",
              "      <td>Free</td>\n",
              "      <td>0</td>\n",
              "      <td>Everyone</td>\n",
              "      <td>Education</td>\n",
              "      <td>July 25, 2017</td>\n",
              "      <td>1.48</td>\n",
              "      <td>4.1 and up</td>\n",
              "    </tr>\n",
              "    <tr>\n",
              "      <th>10837</th>\n",
              "      <td>Fr. Mike Schmitz Audio Teachings</td>\n",
              "      <td>FAMILY</td>\n",
              "      <td>5.0</td>\n",
              "      <td>4</td>\n",
              "      <td>3.6M</td>\n",
              "      <td>100+</td>\n",
              "      <td>Free</td>\n",
              "      <td>0</td>\n",
              "      <td>Everyone</td>\n",
              "      <td>Education</td>\n",
              "      <td>July 6, 2018</td>\n",
              "      <td>1.0</td>\n",
              "      <td>4.1 and up</td>\n",
              "    </tr>\n",
              "    <tr>\n",
              "      <th>10838</th>\n",
              "      <td>Parkinson Exercices FR</td>\n",
              "      <td>MEDICAL</td>\n",
              "      <td>NaN</td>\n",
              "      <td>3</td>\n",
              "      <td>9.5M</td>\n",
              "      <td>1,000+</td>\n",
              "      <td>Free</td>\n",
              "      <td>0</td>\n",
              "      <td>Everyone</td>\n",
              "      <td>Medical</td>\n",
              "      <td>January 20, 2017</td>\n",
              "      <td>1.0</td>\n",
              "      <td>2.2 and up</td>\n",
              "    </tr>\n",
              "    <tr>\n",
              "      <th>10839</th>\n",
              "      <td>The SCP Foundation DB fr nn5n</td>\n",
              "      <td>BOOKS_AND_REFERENCE</td>\n",
              "      <td>4.5</td>\n",
              "      <td>114</td>\n",
              "      <td>Varies with device</td>\n",
              "      <td>1,000+</td>\n",
              "      <td>Free</td>\n",
              "      <td>0</td>\n",
              "      <td>Mature 17+</td>\n",
              "      <td>Books &amp; Reference</td>\n",
              "      <td>January 19, 2015</td>\n",
              "      <td>Varies with device</td>\n",
              "      <td>Varies with device</td>\n",
              "    </tr>\n",
              "    <tr>\n",
              "      <th>10840</th>\n",
              "      <td>iHoroscope - 2018 Daily Horoscope &amp; Astrology</td>\n",
              "      <td>LIFESTYLE</td>\n",
              "      <td>4.5</td>\n",
              "      <td>398307</td>\n",
              "      <td>19M</td>\n",
              "      <td>10,000,000+</td>\n",
              "      <td>Free</td>\n",
              "      <td>0</td>\n",
              "      <td>Everyone</td>\n",
              "      <td>Lifestyle</td>\n",
              "      <td>July 25, 2018</td>\n",
              "      <td>Varies with device</td>\n",
              "      <td>Varies with device</td>\n",
              "    </tr>\n",
              "  </tbody>\n",
              "</table>\n",
              "</div>"
            ],
            "text/plain": [
              "                                                 App  ...         Android Ver\n",
              "10836                               Sya9a Maroc - FR  ...          4.1 and up\n",
              "10837               Fr. Mike Schmitz Audio Teachings  ...          4.1 and up\n",
              "10838                         Parkinson Exercices FR  ...          2.2 and up\n",
              "10839                  The SCP Foundation DB fr nn5n  ...  Varies with device\n",
              "10840  iHoroscope - 2018 Daily Horoscope & Astrology  ...  Varies with device\n",
              "\n",
              "[5 rows x 13 columns]"
            ]
          },
          "metadata": {},
          "execution_count": 12
        }
      ]
    },
    {
      "cell_type": "code",
      "metadata": {
        "colab": {
          "base_uri": "https://localhost:8080/"
        },
        "id": "2ArulO05wtk1",
        "outputId": "409a1ba0-935e-4d0f-9055-7ce71b524378"
      },
      "source": [
        "play_store_data.info()"
      ],
      "execution_count": null,
      "outputs": [
        {
          "output_type": "stream",
          "name": "stdout",
          "text": [
            "<class 'pandas.core.frame.DataFrame'>\n",
            "RangeIndex: 10841 entries, 0 to 10840\n",
            "Data columns (total 13 columns):\n",
            " #   Column          Non-Null Count  Dtype  \n",
            "---  ------          --------------  -----  \n",
            " 0   App             10841 non-null  object \n",
            " 1   Category        10841 non-null  object \n",
            " 2   Rating          9367 non-null   float64\n",
            " 3   Reviews         10841 non-null  object \n",
            " 4   Size            10841 non-null  object \n",
            " 5   Installs        10841 non-null  object \n",
            " 6   Type            10840 non-null  object \n",
            " 7   Price           10841 non-null  object \n",
            " 8   Content Rating  10840 non-null  object \n",
            " 9   Genres          10841 non-null  object \n",
            " 10  Last Updated    10841 non-null  object \n",
            " 11  Current Ver     10833 non-null  object \n",
            " 12  Android Ver     10838 non-null  object \n",
            "dtypes: float64(1), object(12)\n",
            "memory usage: 1.1+ MB\n"
          ]
        }
      ]
    },
    {
      "cell_type": "code",
      "metadata": {
        "colab": {
          "base_uri": "https://localhost:8080/",
          "height": 429
        },
        "id": "Pq0zLW4Cw7cb",
        "outputId": "04173fa8-5558-4089-a280-0d4ec2853de4"
      },
      "source": [
        "play_store_data.describe(include = 'all')"
      ],
      "execution_count": null,
      "outputs": [
        {
          "output_type": "execute_result",
          "data": {
            "text/html": [
              "<div>\n",
              "<style scoped>\n",
              "    .dataframe tbody tr th:only-of-type {\n",
              "        vertical-align: middle;\n",
              "    }\n",
              "\n",
              "    .dataframe tbody tr th {\n",
              "        vertical-align: top;\n",
              "    }\n",
              "\n",
              "    .dataframe thead th {\n",
              "        text-align: right;\n",
              "    }\n",
              "</style>\n",
              "<table border=\"1\" class=\"dataframe\">\n",
              "  <thead>\n",
              "    <tr style=\"text-align: right;\">\n",
              "      <th></th>\n",
              "      <th>App</th>\n",
              "      <th>Category</th>\n",
              "      <th>Rating</th>\n",
              "      <th>Reviews</th>\n",
              "      <th>Size</th>\n",
              "      <th>Installs</th>\n",
              "      <th>Type</th>\n",
              "      <th>Price</th>\n",
              "      <th>Content Rating</th>\n",
              "      <th>Genres</th>\n",
              "      <th>Last Updated</th>\n",
              "      <th>Current Ver</th>\n",
              "      <th>Android Ver</th>\n",
              "    </tr>\n",
              "  </thead>\n",
              "  <tbody>\n",
              "    <tr>\n",
              "      <th>count</th>\n",
              "      <td>10841</td>\n",
              "      <td>10841</td>\n",
              "      <td>9367.000000</td>\n",
              "      <td>10841</td>\n",
              "      <td>10841</td>\n",
              "      <td>10841</td>\n",
              "      <td>10840</td>\n",
              "      <td>10841</td>\n",
              "      <td>10840</td>\n",
              "      <td>10841</td>\n",
              "      <td>10841</td>\n",
              "      <td>10833</td>\n",
              "      <td>10838</td>\n",
              "    </tr>\n",
              "    <tr>\n",
              "      <th>unique</th>\n",
              "      <td>9660</td>\n",
              "      <td>34</td>\n",
              "      <td>NaN</td>\n",
              "      <td>6002</td>\n",
              "      <td>462</td>\n",
              "      <td>22</td>\n",
              "      <td>3</td>\n",
              "      <td>93</td>\n",
              "      <td>6</td>\n",
              "      <td>120</td>\n",
              "      <td>1378</td>\n",
              "      <td>2832</td>\n",
              "      <td>33</td>\n",
              "    </tr>\n",
              "    <tr>\n",
              "      <th>top</th>\n",
              "      <td>ROBLOX</td>\n",
              "      <td>FAMILY</td>\n",
              "      <td>NaN</td>\n",
              "      <td>0</td>\n",
              "      <td>Varies with device</td>\n",
              "      <td>1,000,000+</td>\n",
              "      <td>Free</td>\n",
              "      <td>0</td>\n",
              "      <td>Everyone</td>\n",
              "      <td>Tools</td>\n",
              "      <td>August 3, 2018</td>\n",
              "      <td>Varies with device</td>\n",
              "      <td>4.1 and up</td>\n",
              "    </tr>\n",
              "    <tr>\n",
              "      <th>freq</th>\n",
              "      <td>9</td>\n",
              "      <td>1972</td>\n",
              "      <td>NaN</td>\n",
              "      <td>596</td>\n",
              "      <td>1695</td>\n",
              "      <td>1579</td>\n",
              "      <td>10039</td>\n",
              "      <td>10040</td>\n",
              "      <td>8714</td>\n",
              "      <td>842</td>\n",
              "      <td>326</td>\n",
              "      <td>1459</td>\n",
              "      <td>2451</td>\n",
              "    </tr>\n",
              "    <tr>\n",
              "      <th>mean</th>\n",
              "      <td>NaN</td>\n",
              "      <td>NaN</td>\n",
              "      <td>4.193338</td>\n",
              "      <td>NaN</td>\n",
              "      <td>NaN</td>\n",
              "      <td>NaN</td>\n",
              "      <td>NaN</td>\n",
              "      <td>NaN</td>\n",
              "      <td>NaN</td>\n",
              "      <td>NaN</td>\n",
              "      <td>NaN</td>\n",
              "      <td>NaN</td>\n",
              "      <td>NaN</td>\n",
              "    </tr>\n",
              "    <tr>\n",
              "      <th>std</th>\n",
              "      <td>NaN</td>\n",
              "      <td>NaN</td>\n",
              "      <td>0.537431</td>\n",
              "      <td>NaN</td>\n",
              "      <td>NaN</td>\n",
              "      <td>NaN</td>\n",
              "      <td>NaN</td>\n",
              "      <td>NaN</td>\n",
              "      <td>NaN</td>\n",
              "      <td>NaN</td>\n",
              "      <td>NaN</td>\n",
              "      <td>NaN</td>\n",
              "      <td>NaN</td>\n",
              "    </tr>\n",
              "    <tr>\n",
              "      <th>min</th>\n",
              "      <td>NaN</td>\n",
              "      <td>NaN</td>\n",
              "      <td>1.000000</td>\n",
              "      <td>NaN</td>\n",
              "      <td>NaN</td>\n",
              "      <td>NaN</td>\n",
              "      <td>NaN</td>\n",
              "      <td>NaN</td>\n",
              "      <td>NaN</td>\n",
              "      <td>NaN</td>\n",
              "      <td>NaN</td>\n",
              "      <td>NaN</td>\n",
              "      <td>NaN</td>\n",
              "    </tr>\n",
              "    <tr>\n",
              "      <th>25%</th>\n",
              "      <td>NaN</td>\n",
              "      <td>NaN</td>\n",
              "      <td>4.000000</td>\n",
              "      <td>NaN</td>\n",
              "      <td>NaN</td>\n",
              "      <td>NaN</td>\n",
              "      <td>NaN</td>\n",
              "      <td>NaN</td>\n",
              "      <td>NaN</td>\n",
              "      <td>NaN</td>\n",
              "      <td>NaN</td>\n",
              "      <td>NaN</td>\n",
              "      <td>NaN</td>\n",
              "    </tr>\n",
              "    <tr>\n",
              "      <th>50%</th>\n",
              "      <td>NaN</td>\n",
              "      <td>NaN</td>\n",
              "      <td>4.300000</td>\n",
              "      <td>NaN</td>\n",
              "      <td>NaN</td>\n",
              "      <td>NaN</td>\n",
              "      <td>NaN</td>\n",
              "      <td>NaN</td>\n",
              "      <td>NaN</td>\n",
              "      <td>NaN</td>\n",
              "      <td>NaN</td>\n",
              "      <td>NaN</td>\n",
              "      <td>NaN</td>\n",
              "    </tr>\n",
              "    <tr>\n",
              "      <th>75%</th>\n",
              "      <td>NaN</td>\n",
              "      <td>NaN</td>\n",
              "      <td>4.500000</td>\n",
              "      <td>NaN</td>\n",
              "      <td>NaN</td>\n",
              "      <td>NaN</td>\n",
              "      <td>NaN</td>\n",
              "      <td>NaN</td>\n",
              "      <td>NaN</td>\n",
              "      <td>NaN</td>\n",
              "      <td>NaN</td>\n",
              "      <td>NaN</td>\n",
              "      <td>NaN</td>\n",
              "    </tr>\n",
              "    <tr>\n",
              "      <th>max</th>\n",
              "      <td>NaN</td>\n",
              "      <td>NaN</td>\n",
              "      <td>19.000000</td>\n",
              "      <td>NaN</td>\n",
              "      <td>NaN</td>\n",
              "      <td>NaN</td>\n",
              "      <td>NaN</td>\n",
              "      <td>NaN</td>\n",
              "      <td>NaN</td>\n",
              "      <td>NaN</td>\n",
              "      <td>NaN</td>\n",
              "      <td>NaN</td>\n",
              "      <td>NaN</td>\n",
              "    </tr>\n",
              "  </tbody>\n",
              "</table>\n",
              "</div>"
            ],
            "text/plain": [
              "           App Category  ...         Current Ver Android Ver\n",
              "count    10841    10841  ...               10833       10838\n",
              "unique    9660       34  ...                2832          33\n",
              "top     ROBLOX   FAMILY  ...  Varies with device  4.1 and up\n",
              "freq         9     1972  ...                1459        2451\n",
              "mean       NaN      NaN  ...                 NaN         NaN\n",
              "std        NaN      NaN  ...                 NaN         NaN\n",
              "min        NaN      NaN  ...                 NaN         NaN\n",
              "25%        NaN      NaN  ...                 NaN         NaN\n",
              "50%        NaN      NaN  ...                 NaN         NaN\n",
              "75%        NaN      NaN  ...                 NaN         NaN\n",
              "max        NaN      NaN  ...                 NaN         NaN\n",
              "\n",
              "[11 rows x 13 columns]"
            ]
          },
          "metadata": {},
          "execution_count": 14
        }
      ]
    },
    {
      "cell_type": "markdown",
      "metadata": {
        "id": "eV0scc5i0W6B"
      },
      "source": [
        "#Checking Null Values"
      ]
    },
    {
      "cell_type": "code",
      "metadata": {
        "colab": {
          "base_uri": "https://localhost:8080/"
        },
        "id": "hiHyd9DYzAY4",
        "outputId": "b5a97a5d-1b22-45ad-8acb-e5488f261844"
      },
      "source": [
        "play_store_data.isnull().sum()"
      ],
      "execution_count": null,
      "outputs": [
        {
          "output_type": "execute_result",
          "data": {
            "text/plain": [
              "App                  0\n",
              "Category             0\n",
              "Rating            1474\n",
              "Reviews              0\n",
              "Size                 0\n",
              "Installs             0\n",
              "Type                 1\n",
              "Price                0\n",
              "Content Rating       1\n",
              "Genres               0\n",
              "Last Updated         0\n",
              "Current Ver          8\n",
              "Android Ver          3\n",
              "dtype: int64"
            ]
          },
          "metadata": {},
          "execution_count": 15
        }
      ]
    },
    {
      "cell_type": "markdown",
      "metadata": {
        "id": "DGMDDccK3fiC"
      },
      "source": [
        "#Handling Null Values"
      ]
    },
    {
      "cell_type": "code",
      "metadata": {
        "id": "3R9K5N8l0NHr",
        "colab": {
          "base_uri": "https://localhost:8080/"
        },
        "outputId": "0a0e8dd0-3a7d-4343-de55-781b1009f8bd"
      },
      "source": [
        "play_store_data.info()"
      ],
      "execution_count": null,
      "outputs": [
        {
          "output_type": "stream",
          "name": "stdout",
          "text": [
            "<class 'pandas.core.frame.DataFrame'>\n",
            "RangeIndex: 10841 entries, 0 to 10840\n",
            "Data columns (total 13 columns):\n",
            " #   Column          Non-Null Count  Dtype  \n",
            "---  ------          --------------  -----  \n",
            " 0   App             10841 non-null  object \n",
            " 1   Category        10841 non-null  object \n",
            " 2   Rating          9367 non-null   float64\n",
            " 3   Reviews         10841 non-null  object \n",
            " 4   Size            10841 non-null  object \n",
            " 5   Installs        10841 non-null  object \n",
            " 6   Type            10840 non-null  object \n",
            " 7   Price           10841 non-null  object \n",
            " 8   Content Rating  10840 non-null  object \n",
            " 9   Genres          10841 non-null  object \n",
            " 10  Last Updated    10841 non-null  object \n",
            " 11  Current Ver     10833 non-null  object \n",
            " 12  Android Ver     10838 non-null  object \n",
            "dtypes: float64(1), object(12)\n",
            "memory usage: 1.1+ MB\n"
          ]
        }
      ]
    },
    {
      "cell_type": "code",
      "metadata": {
        "colab": {
          "base_uri": "https://localhost:8080/",
          "height": 397
        },
        "id": "vz7zjMMJ4Wqs",
        "outputId": "e06f55b5-694e-4618-fffd-9b4a5c608758"
      },
      "source": [
        "play_store_data.head()"
      ],
      "execution_count": null,
      "outputs": [
        {
          "output_type": "execute_result",
          "data": {
            "text/html": [
              "<div>\n",
              "<style scoped>\n",
              "    .dataframe tbody tr th:only-of-type {\n",
              "        vertical-align: middle;\n",
              "    }\n",
              "\n",
              "    .dataframe tbody tr th {\n",
              "        vertical-align: top;\n",
              "    }\n",
              "\n",
              "    .dataframe thead th {\n",
              "        text-align: right;\n",
              "    }\n",
              "</style>\n",
              "<table border=\"1\" class=\"dataframe\">\n",
              "  <thead>\n",
              "    <tr style=\"text-align: right;\">\n",
              "      <th></th>\n",
              "      <th>App</th>\n",
              "      <th>Category</th>\n",
              "      <th>Rating</th>\n",
              "      <th>Reviews</th>\n",
              "      <th>Size</th>\n",
              "      <th>Installs</th>\n",
              "      <th>Type</th>\n",
              "      <th>Price</th>\n",
              "      <th>Content Rating</th>\n",
              "      <th>Genres</th>\n",
              "      <th>Last Updated</th>\n",
              "      <th>Current Ver</th>\n",
              "      <th>Android Ver</th>\n",
              "    </tr>\n",
              "  </thead>\n",
              "  <tbody>\n",
              "    <tr>\n",
              "      <th>0</th>\n",
              "      <td>Photo Editor &amp; Candy Camera &amp; Grid &amp; ScrapBook</td>\n",
              "      <td>ART_AND_DESIGN</td>\n",
              "      <td>4.1</td>\n",
              "      <td>159</td>\n",
              "      <td>19M</td>\n",
              "      <td>10,000+</td>\n",
              "      <td>Free</td>\n",
              "      <td>0</td>\n",
              "      <td>Everyone</td>\n",
              "      <td>Art &amp; Design</td>\n",
              "      <td>January 7, 2018</td>\n",
              "      <td>1.0.0</td>\n",
              "      <td>4.0.3 and up</td>\n",
              "    </tr>\n",
              "    <tr>\n",
              "      <th>1</th>\n",
              "      <td>Coloring book moana</td>\n",
              "      <td>ART_AND_DESIGN</td>\n",
              "      <td>3.9</td>\n",
              "      <td>967</td>\n",
              "      <td>14M</td>\n",
              "      <td>500,000+</td>\n",
              "      <td>Free</td>\n",
              "      <td>0</td>\n",
              "      <td>Everyone</td>\n",
              "      <td>Art &amp; Design;Pretend Play</td>\n",
              "      <td>January 15, 2018</td>\n",
              "      <td>2.0.0</td>\n",
              "      <td>4.0.3 and up</td>\n",
              "    </tr>\n",
              "    <tr>\n",
              "      <th>2</th>\n",
              "      <td>U Launcher Lite – FREE Live Cool Themes, Hide ...</td>\n",
              "      <td>ART_AND_DESIGN</td>\n",
              "      <td>4.7</td>\n",
              "      <td>87510</td>\n",
              "      <td>8.7M</td>\n",
              "      <td>5,000,000+</td>\n",
              "      <td>Free</td>\n",
              "      <td>0</td>\n",
              "      <td>Everyone</td>\n",
              "      <td>Art &amp; Design</td>\n",
              "      <td>August 1, 2018</td>\n",
              "      <td>1.2.4</td>\n",
              "      <td>4.0.3 and up</td>\n",
              "    </tr>\n",
              "    <tr>\n",
              "      <th>3</th>\n",
              "      <td>Sketch - Draw &amp; Paint</td>\n",
              "      <td>ART_AND_DESIGN</td>\n",
              "      <td>4.5</td>\n",
              "      <td>215644</td>\n",
              "      <td>25M</td>\n",
              "      <td>50,000,000+</td>\n",
              "      <td>Free</td>\n",
              "      <td>0</td>\n",
              "      <td>Teen</td>\n",
              "      <td>Art &amp; Design</td>\n",
              "      <td>June 8, 2018</td>\n",
              "      <td>Varies with device</td>\n",
              "      <td>4.2 and up</td>\n",
              "    </tr>\n",
              "    <tr>\n",
              "      <th>4</th>\n",
              "      <td>Pixel Draw - Number Art Coloring Book</td>\n",
              "      <td>ART_AND_DESIGN</td>\n",
              "      <td>4.3</td>\n",
              "      <td>967</td>\n",
              "      <td>2.8M</td>\n",
              "      <td>100,000+</td>\n",
              "      <td>Free</td>\n",
              "      <td>0</td>\n",
              "      <td>Everyone</td>\n",
              "      <td>Art &amp; Design;Creativity</td>\n",
              "      <td>June 20, 2018</td>\n",
              "      <td>1.1</td>\n",
              "      <td>4.4 and up</td>\n",
              "    </tr>\n",
              "  </tbody>\n",
              "</table>\n",
              "</div>"
            ],
            "text/plain": [
              "                                                 App  ...   Android Ver\n",
              "0     Photo Editor & Candy Camera & Grid & ScrapBook  ...  4.0.3 and up\n",
              "1                                Coloring book moana  ...  4.0.3 and up\n",
              "2  U Launcher Lite – FREE Live Cool Themes, Hide ...  ...  4.0.3 and up\n",
              "3                              Sketch - Draw & Paint  ...    4.2 and up\n",
              "4              Pixel Draw - Number Art Coloring Book  ...    4.4 and up\n",
              "\n",
              "[5 rows x 13 columns]"
            ]
          },
          "metadata": {},
          "execution_count": 17
        }
      ]
    },
    {
      "cell_type": "code",
      "metadata": {
        "id": "nJK5o0Xv4bFs"
      },
      "source": [
        "play_store_data['Rating'].fillna(play_store_data['Rating'].mean(), \\\n",
        "                                 inplace = True)"
      ],
      "execution_count": null,
      "outputs": []
    },
    {
      "cell_type": "code",
      "metadata": {
        "id": "0XuUQ1FP6U1y"
      },
      "source": [
        "play_store_data['Reviews_numeric'] = play_store_data['Reviews'].apply(lambda x: x.replace('M',''))\n",
        "play_store_data['Reviews_numeric'] = play_store_data['Reviews_numeric'].astype('float64').astype('int64')\n",
        "reviews = [row[1]['Reviews_numeric'] * 1000000 if row[1]['Reviews'][-1] == 'M' \\\n",
        "           else row[1]['Reviews_numeric'] for row in play_store_data.iterrows()]\n",
        "play_store_data['Reviews'] = np.array(reviews)\n",
        "play_store_data.drop(columns=['Reviews_numeric'], inplace = True)"
      ],
      "execution_count": null,
      "outputs": []
    },
    {
      "cell_type": "code",
      "metadata": {
        "id": "lARzUiTiPjq_"
      },
      "source": [
        "play_store_data['Size'].replace('Varies with device', '0M', inplace = True)\n",
        "play_store_data['Size_numeric'] = play_store_data['Size'].apply(lambda x:x[:-1])\n",
        "play_store_data['Size_numeric'] = play_store_data['Size_numeric'].str.replace(',','')\n",
        "play_store_data['Size_numeric'] = play_store_data['Size_numeric'].astype('float64')\n",
        "size = [row[1]['Size_numeric'] * 1024 if row[1]['Size'][-1].lower() == 'm' \\\n",
        "        else row[1]['Size_numeric'] for row in play_store_data.iterrows()]\n",
        "play_store_data['Size'] = np.array(size)\n",
        "play_store_data.drop(columns=['Size_numeric'], inplace = True)\n",
        "play_store_data['Size'].replace(0, play_store_data['Size'].mean(), inplace = True)"
      ],
      "execution_count": null,
      "outputs": []
    },
    {
      "cell_type": "code",
      "metadata": {
        "id": "eO1kxB7XZ2ZX"
      },
      "source": [
        "play_store_data['Installs'] = play_store_data['Installs'].apply(lambda x:x.replace('+','').replace(',',''))\n",
        "play_store_data['Installs'].replace('Free', '0', inplace = True)\n",
        "play_store_data['Installs'] = play_store_data['Installs'].astype('int64')"
      ],
      "execution_count": null,
      "outputs": []
    },
    {
      "cell_type": "code",
      "metadata": {
        "colab": {
          "base_uri": "https://localhost:8080/"
        },
        "id": "YAIkr0oja2AC",
        "outputId": "7b2f9e67-3773-4069-8992-f71cd13caec4"
      },
      "source": [
        "play_store_data.isnull().sum()"
      ],
      "execution_count": null,
      "outputs": [
        {
          "output_type": "execute_result",
          "data": {
            "text/plain": [
              "App               0\n",
              "Category          0\n",
              "Rating            0\n",
              "Reviews           0\n",
              "Size              0\n",
              "Installs          0\n",
              "Type              1\n",
              "Price             0\n",
              "Content Rating    1\n",
              "Genres            0\n",
              "Last Updated      0\n",
              "Current Ver       8\n",
              "Android Ver       3\n",
              "dtype: int64"
            ]
          },
          "metadata": {},
          "execution_count": 22
        }
      ]
    },
    {
      "cell_type": "code",
      "metadata": {
        "id": "L4GArRF5bwZF"
      },
      "source": [
        "play_store_data.dropna(inplace = True)"
      ],
      "execution_count": null,
      "outputs": []
    },
    {
      "cell_type": "code",
      "metadata": {
        "id": "o229KQvKdBvD"
      },
      "source": [
        "play_store_data['Price'] = play_store_data['Price'].apply(lambda x: x.replace('$', ''))\n",
        "play_store_data['Price'] = play_store_data['Price'].astype('float64')"
      ],
      "execution_count": null,
      "outputs": []
    },
    {
      "cell_type": "code",
      "metadata": {
        "colab": {
          "base_uri": "https://localhost:8080/"
        },
        "id": "U751IASrd70m",
        "outputId": "a862b097-9717-41d9-e81a-bebce7b955e5"
      },
      "source": [
        "play_store_data['Last Updated'].unique()"
      ],
      "execution_count": null,
      "outputs": [
        {
          "output_type": "execute_result",
          "data": {
            "text/plain": [
              "array(['January 7, 2018', 'January 15, 2018', 'August 1, 2018', ...,\n",
              "       'January 20, 2014', 'February 16, 2014', 'March 23, 2014'],\n",
              "      dtype=object)"
            ]
          },
          "metadata": {},
          "execution_count": 25
        }
      ]
    },
    {
      "cell_type": "code",
      "metadata": {
        "id": "leafAWGbfZtK"
      },
      "source": [
        "from datetime import datetime"
      ],
      "execution_count": null,
      "outputs": []
    },
    {
      "cell_type": "code",
      "metadata": {
        "id": "K2XyleiafJL1"
      },
      "source": [
        "play_store_data['Last Updated'] = play_store_data['Last Updated'].apply(lambda x : datetime.strptime(x,'%B %d, %Y'))"
      ],
      "execution_count": null,
      "outputs": []
    },
    {
      "cell_type": "code",
      "metadata": {
        "id": "74wrznizNtHC"
      },
      "source": [
        "play_store_data.reset_index(inplace = True)"
      ],
      "execution_count": null,
      "outputs": []
    },
    {
      "cell_type": "code",
      "metadata": {
        "colab": {
          "base_uri": "https://localhost:8080/"
        },
        "id": "qxALmS7X5Kcz",
        "outputId": "fd8ce1fa-40f4-400e-e998-bf7332d4ca65"
      },
      "source": [
        "play_store_data.info()"
      ],
      "execution_count": null,
      "outputs": [
        {
          "output_type": "stream",
          "name": "stdout",
          "text": [
            "<class 'pandas.core.frame.DataFrame'>\n",
            "RangeIndex: 10829 entries, 0 to 10828\n",
            "Data columns (total 14 columns):\n",
            " #   Column          Non-Null Count  Dtype         \n",
            "---  ------          --------------  -----         \n",
            " 0   index           10829 non-null  int64         \n",
            " 1   App             10829 non-null  object        \n",
            " 2   Category        10829 non-null  object        \n",
            " 3   Rating          10829 non-null  float64       \n",
            " 4   Reviews         10829 non-null  int64         \n",
            " 5   Size            10829 non-null  float64       \n",
            " 6   Installs        10829 non-null  int64         \n",
            " 7   Type            10829 non-null  object        \n",
            " 8   Price           10829 non-null  float64       \n",
            " 9   Content Rating  10829 non-null  object        \n",
            " 10  Genres          10829 non-null  object        \n",
            " 11  Last Updated    10829 non-null  datetime64[ns]\n",
            " 12  Current Ver     10829 non-null  object        \n",
            " 13  Android Ver     10829 non-null  object        \n",
            "dtypes: datetime64[ns](1), float64(3), int64(3), object(7)\n",
            "memory usage: 1.2+ MB\n"
          ]
        }
      ]
    },
    {
      "cell_type": "markdown",
      "metadata": {
        "id": "f8GC2c7Py-HT"
      },
      "source": [
        "# Correlation"
      ]
    },
    {
      "cell_type": "code",
      "metadata": {
        "colab": {
          "base_uri": "https://localhost:8080/",
          "height": 237
        },
        "id": "4m9RawOUy9Vn",
        "outputId": "1996461b-e585-4df0-9633-a92b2aec0af4"
      },
      "source": [
        "play_store_data.corr()"
      ],
      "execution_count": null,
      "outputs": [
        {
          "output_type": "execute_result",
          "data": {
            "text/html": [
              "<div>\n",
              "<style scoped>\n",
              "    .dataframe tbody tr th:only-of-type {\n",
              "        vertical-align: middle;\n",
              "    }\n",
              "\n",
              "    .dataframe tbody tr th {\n",
              "        vertical-align: top;\n",
              "    }\n",
              "\n",
              "    .dataframe thead th {\n",
              "        text-align: right;\n",
              "    }\n",
              "</style>\n",
              "<table border=\"1\" class=\"dataframe\">\n",
              "  <thead>\n",
              "    <tr style=\"text-align: right;\">\n",
              "      <th></th>\n",
              "      <th>index</th>\n",
              "      <th>Rating</th>\n",
              "      <th>Reviews</th>\n",
              "      <th>Size</th>\n",
              "      <th>Installs</th>\n",
              "      <th>Price</th>\n",
              "    </tr>\n",
              "  </thead>\n",
              "  <tbody>\n",
              "    <tr>\n",
              "      <th>index</th>\n",
              "      <td>1.000000</td>\n",
              "      <td>-0.120355</td>\n",
              "      <td>-0.115798</td>\n",
              "      <td>-0.096359</td>\n",
              "      <td>-0.133300</td>\n",
              "      <td>0.005433</td>\n",
              "    </tr>\n",
              "    <tr>\n",
              "      <th>Rating</th>\n",
              "      <td>-0.120355</td>\n",
              "      <td>1.000000</td>\n",
              "      <td>0.067945</td>\n",
              "      <td>0.070177</td>\n",
              "      <td>0.051126</td>\n",
              "      <td>-0.020193</td>\n",
              "    </tr>\n",
              "    <tr>\n",
              "      <th>Reviews</th>\n",
              "      <td>-0.115798</td>\n",
              "      <td>0.067945</td>\n",
              "      <td>1.000000</td>\n",
              "      <td>0.118855</td>\n",
              "      <td>0.643112</td>\n",
              "      <td>-0.009674</td>\n",
              "    </tr>\n",
              "    <tr>\n",
              "      <th>Size</th>\n",
              "      <td>-0.096359</td>\n",
              "      <td>0.070177</td>\n",
              "      <td>0.118855</td>\n",
              "      <td>1.000000</td>\n",
              "      <td>0.068556</td>\n",
              "      <td>-0.021652</td>\n",
              "    </tr>\n",
              "    <tr>\n",
              "      <th>Installs</th>\n",
              "      <td>-0.133300</td>\n",
              "      <td>0.051126</td>\n",
              "      <td>0.643112</td>\n",
              "      <td>0.068556</td>\n",
              "      <td>1.000000</td>\n",
              "      <td>-0.011698</td>\n",
              "    </tr>\n",
              "    <tr>\n",
              "      <th>Price</th>\n",
              "      <td>0.005433</td>\n",
              "      <td>-0.020193</td>\n",
              "      <td>-0.009674</td>\n",
              "      <td>-0.021652</td>\n",
              "      <td>-0.011698</td>\n",
              "      <td>1.000000</td>\n",
              "    </tr>\n",
              "  </tbody>\n",
              "</table>\n",
              "</div>"
            ],
            "text/plain": [
              "             index    Rating   Reviews      Size  Installs     Price\n",
              "index     1.000000 -0.120355 -0.115798 -0.096359 -0.133300  0.005433\n",
              "Rating   -0.120355  1.000000  0.067945  0.070177  0.051126 -0.020193\n",
              "Reviews  -0.115798  0.067945  1.000000  0.118855  0.643112 -0.009674\n",
              "Size     -0.096359  0.070177  0.118855  1.000000  0.068556 -0.021652\n",
              "Installs -0.133300  0.051126  0.643112  0.068556  1.000000 -0.011698\n",
              "Price     0.005433 -0.020193 -0.009674 -0.021652 -0.011698  1.000000"
            ]
          },
          "metadata": {},
          "execution_count": 31
        }
      ]
    },
    {
      "cell_type": "code",
      "metadata": {
        "colab": {
          "base_uri": "https://localhost:8080/",
          "height": 432
        },
        "id": "IWv8Bs7MGb_-",
        "outputId": "67b53e45-64e7-44c2-bc38-4f3f0d7c5347"
      },
      "source": [
        "play_store_data.head()"
      ],
      "execution_count": null,
      "outputs": [
        {
          "output_type": "execute_result",
          "data": {
            "text/html": [
              "<div>\n",
              "<style scoped>\n",
              "    .dataframe tbody tr th:only-of-type {\n",
              "        vertical-align: middle;\n",
              "    }\n",
              "\n",
              "    .dataframe tbody tr th {\n",
              "        vertical-align: top;\n",
              "    }\n",
              "\n",
              "    .dataframe thead th {\n",
              "        text-align: right;\n",
              "    }\n",
              "</style>\n",
              "<table border=\"1\" class=\"dataframe\">\n",
              "  <thead>\n",
              "    <tr style=\"text-align: right;\">\n",
              "      <th></th>\n",
              "      <th>index</th>\n",
              "      <th>App</th>\n",
              "      <th>Category</th>\n",
              "      <th>Rating</th>\n",
              "      <th>Reviews</th>\n",
              "      <th>Size</th>\n",
              "      <th>Installs</th>\n",
              "      <th>Type</th>\n",
              "      <th>Price</th>\n",
              "      <th>Content Rating</th>\n",
              "      <th>Genres</th>\n",
              "      <th>Last Updated</th>\n",
              "      <th>Current Ver</th>\n",
              "      <th>Android Ver</th>\n",
              "    </tr>\n",
              "  </thead>\n",
              "  <tbody>\n",
              "    <tr>\n",
              "      <th>0</th>\n",
              "      <td>0</td>\n",
              "      <td>Photo Editor &amp; Candy Camera &amp; Grid &amp; ScrapBook</td>\n",
              "      <td>ART_AND_DESIGN</td>\n",
              "      <td>4.1</td>\n",
              "      <td>159</td>\n",
              "      <td>19456.0</td>\n",
              "      <td>10000</td>\n",
              "      <td>Free</td>\n",
              "      <td>0.0</td>\n",
              "      <td>Everyone</td>\n",
              "      <td>Art &amp; Design</td>\n",
              "      <td>2018-01-07</td>\n",
              "      <td>1.0.0</td>\n",
              "      <td>4.0.3 and up</td>\n",
              "    </tr>\n",
              "    <tr>\n",
              "      <th>1</th>\n",
              "      <td>1</td>\n",
              "      <td>Coloring book moana</td>\n",
              "      <td>ART_AND_DESIGN</td>\n",
              "      <td>3.9</td>\n",
              "      <td>967</td>\n",
              "      <td>14336.0</td>\n",
              "      <td>500000</td>\n",
              "      <td>Free</td>\n",
              "      <td>0.0</td>\n",
              "      <td>Everyone</td>\n",
              "      <td>Art &amp; Design;Pretend Play</td>\n",
              "      <td>2018-01-15</td>\n",
              "      <td>2.0.0</td>\n",
              "      <td>4.0.3 and up</td>\n",
              "    </tr>\n",
              "    <tr>\n",
              "      <th>2</th>\n",
              "      <td>2</td>\n",
              "      <td>U Launcher Lite – FREE Live Cool Themes, Hide ...</td>\n",
              "      <td>ART_AND_DESIGN</td>\n",
              "      <td>4.7</td>\n",
              "      <td>87510</td>\n",
              "      <td>8908.8</td>\n",
              "      <td>5000000</td>\n",
              "      <td>Free</td>\n",
              "      <td>0.0</td>\n",
              "      <td>Everyone</td>\n",
              "      <td>Art &amp; Design</td>\n",
              "      <td>2018-08-01</td>\n",
              "      <td>1.2.4</td>\n",
              "      <td>4.0.3 and up</td>\n",
              "    </tr>\n",
              "    <tr>\n",
              "      <th>3</th>\n",
              "      <td>3</td>\n",
              "      <td>Sketch - Draw &amp; Paint</td>\n",
              "      <td>ART_AND_DESIGN</td>\n",
              "      <td>4.5</td>\n",
              "      <td>215644</td>\n",
              "      <td>25600.0</td>\n",
              "      <td>50000000</td>\n",
              "      <td>Free</td>\n",
              "      <td>0.0</td>\n",
              "      <td>Teen</td>\n",
              "      <td>Art &amp; Design</td>\n",
              "      <td>2018-06-08</td>\n",
              "      <td>Varies with device</td>\n",
              "      <td>4.2 and up</td>\n",
              "    </tr>\n",
              "    <tr>\n",
              "      <th>4</th>\n",
              "      <td>4</td>\n",
              "      <td>Pixel Draw - Number Art Coloring Book</td>\n",
              "      <td>ART_AND_DESIGN</td>\n",
              "      <td>4.3</td>\n",
              "      <td>967</td>\n",
              "      <td>2867.2</td>\n",
              "      <td>100000</td>\n",
              "      <td>Free</td>\n",
              "      <td>0.0</td>\n",
              "      <td>Everyone</td>\n",
              "      <td>Art &amp; Design;Creativity</td>\n",
              "      <td>2018-06-20</td>\n",
              "      <td>1.1</td>\n",
              "      <td>4.4 and up</td>\n",
              "    </tr>\n",
              "  </tbody>\n",
              "</table>\n",
              "</div>"
            ],
            "text/plain": [
              "   index  ...   Android Ver\n",
              "0      0  ...  4.0.3 and up\n",
              "1      1  ...  4.0.3 and up\n",
              "2      2  ...  4.0.3 and up\n",
              "3      3  ...    4.2 and up\n",
              "4      4  ...    4.4 and up\n",
              "\n",
              "[5 rows x 14 columns]"
            ]
          },
          "metadata": {},
          "execution_count": 32
        }
      ]
    },
    {
      "cell_type": "code",
      "metadata": {
        "id": "d8sMafdFKkFX"
      },
      "source": [
        "play_store_data['Rating_int'] = play_store_data['Rating'].astype('int64')"
      ],
      "execution_count": null,
      "outputs": []
    },
    {
      "cell_type": "code",
      "metadata": {
        "id": "ow1DulAPMBqY"
      },
      "source": [
        "rating_range_data = play_store_data.groupby(by='Rating_int') \\\n",
        "                    .agg({'Installs':sum,'App':'size'}).reset_index()"
      ],
      "execution_count": null,
      "outputs": []
    },
    {
      "cell_type": "code",
      "metadata": {
        "colab": {
          "base_uri": "https://localhost:8080/",
          "height": 206
        },
        "id": "whEqd8T115Tr",
        "outputId": "bbc27a13-f703-4f5d-b3a4-972dc8d137f4"
      },
      "source": [
        "display(rating_range_data)"
      ],
      "execution_count": null,
      "outputs": [
        {
          "output_type": "display_data",
          "data": {
            "text/html": [
              "<div>\n",
              "<style scoped>\n",
              "    .dataframe tbody tr th:only-of-type {\n",
              "        vertical-align: middle;\n",
              "    }\n",
              "\n",
              "    .dataframe tbody tr th {\n",
              "        vertical-align: top;\n",
              "    }\n",
              "\n",
              "    .dataframe thead th {\n",
              "        text-align: right;\n",
              "    }\n",
              "</style>\n",
              "<table border=\"1\" class=\"dataframe\">\n",
              "  <thead>\n",
              "    <tr style=\"text-align: right;\">\n",
              "      <th></th>\n",
              "      <th>Rating_int</th>\n",
              "      <th>Installs</th>\n",
              "      <th>App</th>\n",
              "    </tr>\n",
              "  </thead>\n",
              "  <tbody>\n",
              "    <tr>\n",
              "      <th>0</th>\n",
              "      <td>1</td>\n",
              "      <td>1156475</td>\n",
              "      <td>56</td>\n",
              "    </tr>\n",
              "    <tr>\n",
              "      <th>1</th>\n",
              "      <td>2</td>\n",
              "      <td>26581700</td>\n",
              "      <td>231</td>\n",
              "    </tr>\n",
              "    <tr>\n",
              "      <th>2</th>\n",
              "      <td>3</td>\n",
              "      <td>9333759600</td>\n",
              "      <td>1710</td>\n",
              "    </tr>\n",
              "    <tr>\n",
              "      <th>3</th>\n",
              "      <td>4</td>\n",
              "      <td>158270268579</td>\n",
              "      <td>8558</td>\n",
              "    </tr>\n",
              "    <tr>\n",
              "      <th>4</th>\n",
              "      <td>5</td>\n",
              "      <td>90023</td>\n",
              "      <td>274</td>\n",
              "    </tr>\n",
              "  </tbody>\n",
              "</table>\n",
              "</div>"
            ],
            "text/plain": [
              "   Rating_int      Installs   App\n",
              "0           1       1156475    56\n",
              "1           2      26581700   231\n",
              "2           3    9333759600  1710\n",
              "3           4  158270268579  8558\n",
              "4           5         90023   274"
            ]
          },
          "metadata": {}
        }
      ]
    },
    {
      "cell_type": "code",
      "metadata": {
        "colab": {
          "base_uri": "https://localhost:8080/",
          "height": 265
        },
        "id": "Bp-CXgA2Mo_z",
        "outputId": "de337291-1905-4030-9fc9-449f81b79e0f"
      },
      "source": [
        "plt.hist(play_store_data['Rating'], bins = 20)\n",
        "plt.show()"
      ],
      "execution_count": null,
      "outputs": [
        {
          "output_type": "display_data",
          "data": {
            "image/png": "[encoded data removed]",
            "text/plain": [
              "<Figure size 432x288 with 1 Axes>"
            ]
          },
          "metadata": {
            "needs_background": "light"
          }
        }
      ]
    },
    {
      "cell_type": "code",
      "metadata": {
        "colab": {
          "base_uri": "https://localhost:8080/",
          "height": 291
        },
        "id": "4tm2t60lOHE7",
        "outputId": "584a5fd3-9397-40ef-cbd9-40d22ba27203"
      },
      "source": [
        "sns.barplot(x = 'Rating_int', y = 'Installs', data = rating_range_data, ci = None)\n",
        "plt.show()"
      ],
      "execution_count": null,
      "outputs": [
        {
          "output_type": "display_data",
          "data": {
            "image/png": "[encoded data removed]",
            "text/plain": [
              "<Figure size 432x288 with 1 Axes>"
            ]
          },
          "metadata": {
            "needs_background": "light"
          }
        }
      ]
    },
    {
      "cell_type": "code",
      "metadata": {
        "colab": {
          "base_uri": "https://localhost:8080/",
          "height": 265
        },
        "id": "dOfoqwO2nF-1",
        "outputId": "f7af6975-75bc-4e33-d592-f6711702152f"
      },
      "source": [
        "plt.hist(play_store_data['Size'], bins = 50)\n",
        "plt.show()"
      ],
      "execution_count": null,
      "outputs": [
        {
          "output_type": "display_data",
          "data": {
            "image/png": "[encoded data removed]",
            "text/plain": [
              "<Figure size 432x288 with 1 Axes>"
            ]
          },
          "metadata": {
            "needs_background": "light"
          }
        }
      ]
    },
    {
      "cell_type": "code",
      "metadata": {
        "colab": {
          "base_uri": "https://localhost:8080/"
        },
        "id": "JwL9cYtbJurm",
        "outputId": "9b3dd14a-fef5-4b36-debe-edc4465c6408"
      },
      "source": [
        "play_store_data[play_store_data['Rating']>4]['Installs'].sum()"
      ],
      "execution_count": null,
      "outputs": [
        {
          "output_type": "execute_result",
          "data": {
            "text/plain": [
              "147609867192"
            ]
          },
          "metadata": {},
          "execution_count": 39
        }
      ]
    },
    {
      "cell_type": "code",
      "metadata": {
        "colab": {
          "base_uri": "https://localhost:8080/"
        },
        "id": "gS8B44nQyNEJ",
        "outputId": "77e39e8a-d57a-4a51-ab9d-5268dcdbd612"
      },
      "source": [
        "play_store_data.groupby(by='Category')['Installs'].sum().sort_values(ascending = False)"
      ],
      "execution_count": null,
      "outputs": [
        {
          "output_type": "execute_result",
          "data": {
            "text/plain": [
              "Category\n",
              "GAME                   35086024415\n",
              "COMMUNICATION          32647276251\n",
              "PRODUCTIVITY           14176091369\n",
              "SOCIAL                 14069867902\n",
              "TOOLS                  11452271905\n",
              "FAMILY                 10258203405\n",
              "PHOTOGRAPHY            10088247655\n",
              "NEWS_AND_MAGAZINES      7496317760\n",
              "TRAVEL_AND_LOCAL        6868887146\n",
              "VIDEO_PLAYERS           6222002720\n",
              "SHOPPING                3247848785\n",
              "ENTERTAINMENT           2869160000\n",
              "PERSONALIZATION         2325483782\n",
              "BOOKS_AND_REFERENCE     1921468576\n",
              "SPORTS                  1751174498\n",
              "HEALTH_AND_FITNESS      1583072512\n",
              "BUSINESS                1001914865\n",
              "FINANCE                  876648734\n",
              "EDUCATION                871452000\n",
              "MAPS_AND_NAVIGATION      724281890\n",
              "LIFESTYLE                537643539\n",
              "WEATHER                  426100520\n",
              "FOOD_AND_DRINK           273898751\n",
              "DATING                   264310807\n",
              "HOUSE_AND_HOME           168712461\n",
              "ART_AND_DESIGN           124333100\n",
              "LIBRARIES_AND_DEMO        61995910\n",
              "COMICS                    56086150\n",
              "MEDICAL                   53257437\n",
              "AUTO_AND_VEHICLES         53130211\n",
              "PARENTING                 31521110\n",
              "BEAUTY                    27197050\n",
              "EVENTS                    15973161\n",
              "Name: Installs, dtype: int64"
            ]
          },
          "metadata": {},
          "execution_count": 40
        }
      ]
    },
    {
      "cell_type": "code",
      "metadata": {
        "colab": {
          "base_uri": "https://localhost:8080/"
        },
        "id": "vvr9uwBVOl1_",
        "outputId": "397fbb70-35e3-4402-8c37-d268dc9b67a5"
      },
      "source": [
        "play_store_data.groupby('Category').size().sort_values(ascending = False)"
      ],
      "execution_count": null,
      "outputs": [
        {
          "output_type": "execute_result",
          "data": {
            "text/plain": [
              "Category\n",
              "FAMILY                 1968\n",
              "GAME                   1144\n",
              "TOOLS                   841\n",
              "MEDICAL                 463\n",
              "BUSINESS                460\n",
              "PRODUCTIVITY            424\n",
              "PERSONALIZATION         390\n",
              "COMMUNICATION           387\n",
              "SPORTS                  384\n",
              "LIFESTYLE               382\n",
              "FINANCE                 366\n",
              "HEALTH_AND_FITNESS      341\n",
              "PHOTOGRAPHY             335\n",
              "SOCIAL                  295\n",
              "NEWS_AND_MAGAZINES      283\n",
              "SHOPPING                260\n",
              "TRAVEL_AND_LOCAL        258\n",
              "DATING                  234\n",
              "BOOKS_AND_REFERENCE     230\n",
              "VIDEO_PLAYERS           175\n",
              "EDUCATION               156\n",
              "ENTERTAINMENT           149\n",
              "MAPS_AND_NAVIGATION     137\n",
              "FOOD_AND_DRINK          127\n",
              "HOUSE_AND_HOME           88\n",
              "AUTO_AND_VEHICLES        85\n",
              "LIBRARIES_AND_DEMO       84\n",
              "WEATHER                  82\n",
              "EVENTS                   64\n",
              "ART_AND_DESIGN           64\n",
              "COMICS                   60\n",
              "PARENTING                60\n",
              "BEAUTY                   53\n",
              "dtype: int64"
            ]
          },
          "metadata": {},
          "execution_count": 41
        }
      ]
    },
    {
      "cell_type": "code",
      "metadata": {
        "id": "6Sr9iW-1QFuf"
      },
      "source": [
        "play_store_data.sort_values(by=['Category','Installs'],ascending=[True, False], inplace = True)"
      ],
      "execution_count": null,
      "outputs": []
    },
    {
      "cell_type": "code",
      "metadata": {
        "colab": {
          "base_uri": "https://localhost:8080/",
          "height": 480
        },
        "id": "kSbqyOneSRbU",
        "outputId": "ba736153-92b6-4c5a-bfc6-350009fbdd94"
      },
      "source": [
        "display(play_store_data.groupby(by='Category')['Category','App','Installs'].head(5)\\\n",
        "        .reset_index(drop = True))"
      ],
      "execution_count": null,
      "outputs": [
        {
          "output_type": "stream",
          "name": "stderr",
          "text": [
            "/usr/local/lib/python3.7/dist-packages/ipykernel_launcher.py:1: FutureWarning: Indexing with multiple keys (implicitly converted to a tuple of keys) will be deprecated, use a list instead.\n",
            "  \"\"\"Entry point for launching an IPython kernel.\n"
          ]
        },
        {
          "output_type": "display_data",
          "data": {
            "text/html": [
              "<div>\n",
              "<style scoped>\n",
              "    .dataframe tbody tr th:only-of-type {\n",
              "        vertical-align: middle;\n",
              "    }\n",
              "\n",
              "    .dataframe tbody tr th {\n",
              "        vertical-align: top;\n",
              "    }\n",
              "\n",
              "    .dataframe thead th {\n",
              "        text-align: right;\n",
              "    }\n",
              "</style>\n",
              "<table border=\"1\" class=\"dataframe\">\n",
              "  <thead>\n",
              "    <tr style=\"text-align: right;\">\n",
              "      <th></th>\n",
              "      <th>Category</th>\n",
              "      <th>App</th>\n",
              "      <th>Installs</th>\n",
              "    </tr>\n",
              "  </thead>\n",
              "  <tbody>\n",
              "    <tr>\n",
              "      <th>0</th>\n",
              "      <td>ART_AND_DESIGN</td>\n",
              "      <td>Sketch - Draw &amp; Paint</td>\n",
              "      <td>50000000</td>\n",
              "    </tr>\n",
              "    <tr>\n",
              "      <th>1</th>\n",
              "      <td>ART_AND_DESIGN</td>\n",
              "      <td>Tattoo Name On My Photo Editor</td>\n",
              "      <td>10000000</td>\n",
              "    </tr>\n",
              "    <tr>\n",
              "      <th>2</th>\n",
              "      <td>ART_AND_DESIGN</td>\n",
              "      <td>ibis Paint X</td>\n",
              "      <td>10000000</td>\n",
              "    </tr>\n",
              "    <tr>\n",
              "      <th>3</th>\n",
              "      <td>ART_AND_DESIGN</td>\n",
              "      <td>Textgram - write on photos</td>\n",
              "      <td>10000000</td>\n",
              "    </tr>\n",
              "    <tr>\n",
              "      <th>4</th>\n",
              "      <td>ART_AND_DESIGN</td>\n",
              "      <td>Canva: Poster, banner, card maker &amp; graphic de...</td>\n",
              "      <td>10000000</td>\n",
              "    </tr>\n",
              "    <tr>\n",
              "      <th>...</th>\n",
              "      <td>...</td>\n",
              "      <td>...</td>\n",
              "      <td>...</td>\n",
              "    </tr>\n",
              "    <tr>\n",
              "      <th>160</th>\n",
              "      <td>WEATHER</td>\n",
              "      <td>The Weather Channel: Rain Forecast &amp; Storm Alerts</td>\n",
              "      <td>50000000</td>\n",
              "    </tr>\n",
              "    <tr>\n",
              "      <th>161</th>\n",
              "      <td>WEATHER</td>\n",
              "      <td>AccuWeather: Daily Forecast &amp; Live Weather Rep...</td>\n",
              "      <td>50000000</td>\n",
              "    </tr>\n",
              "    <tr>\n",
              "      <th>162</th>\n",
              "      <td>WEATHER</td>\n",
              "      <td>GO Weather - Widget, Theme, Wallpaper, Efficient</td>\n",
              "      <td>50000000</td>\n",
              "    </tr>\n",
              "    <tr>\n",
              "      <th>163</th>\n",
              "      <td>WEATHER</td>\n",
              "      <td>Weather &amp; Clock Widget for Android</td>\n",
              "      <td>50000000</td>\n",
              "    </tr>\n",
              "    <tr>\n",
              "      <th>164</th>\n",
              "      <td>WEATHER</td>\n",
              "      <td>AccuWeather: Daily Forecast &amp; Live Weather Rep...</td>\n",
              "      <td>50000000</td>\n",
              "    </tr>\n",
              "  </tbody>\n",
              "</table>\n",
              "<p>165 rows × 3 columns</p>\n",
              "</div>"
            ],
            "text/plain": [
              "           Category  ...  Installs\n",
              "0    ART_AND_DESIGN  ...  50000000\n",
              "1    ART_AND_DESIGN  ...  10000000\n",
              "2    ART_AND_DESIGN  ...  10000000\n",
              "3    ART_AND_DESIGN  ...  10000000\n",
              "4    ART_AND_DESIGN  ...  10000000\n",
              "..              ...  ...       ...\n",
              "160         WEATHER  ...  50000000\n",
              "161         WEATHER  ...  50000000\n",
              "162         WEATHER  ...  50000000\n",
              "163         WEATHER  ...  50000000\n",
              "164         WEATHER  ...  50000000\n",
              "\n",
              "[165 rows x 3 columns]"
            ]
          },
          "metadata": {}
        }
      ]
    },
    {
      "cell_type": "code",
      "metadata": {
        "colab": {
          "base_uri": "https://localhost:8080/"
        },
        "id": "u8QVjcatHPHT",
        "outputId": "7acfd56b-10a2-4a38-dc6e-8bd15d8e9403"
      },
      "source": [
        "play_store_data.groupby(by='Content Rating')['Installs'].sum().sort_values(ascending = False)"
      ],
      "execution_count": null,
      "outputs": [
        {
          "output_type": "execute_result",
          "data": {
            "text/plain": [
              "Content Rating\n",
              "Everyone           114155082511\n",
              "Teen                34716350393\n",
              "Everyone 10+        13233881795\n",
              "Mature 17+           5524491178\n",
              "Adults only 18+         2000000\n",
              "Unrated                   50500\n",
              "Name: Installs, dtype: int64"
            ]
          },
          "metadata": {},
          "execution_count": 44
        }
      ]
    },
    {
      "cell_type": "code",
      "metadata": {
        "colab": {
          "base_uri": "https://localhost:8080/",
          "height": 504
        },
        "id": "_Zreo15vJlIc",
        "outputId": "fb73b61d-3c39-4d99-fd8a-640eb964f9b4"
      },
      "source": [
        "play_store_data.head()"
      ],
      "execution_count": null,
      "outputs": [
        {
          "output_type": "execute_result",
          "data": {
            "text/html": [
              "<div>\n",
              "<style scoped>\n",
              "    .dataframe tbody tr th:only-of-type {\n",
              "        vertical-align: middle;\n",
              "    }\n",
              "\n",
              "    .dataframe tbody tr th {\n",
              "        vertical-align: top;\n",
              "    }\n",
              "\n",
              "    .dataframe thead th {\n",
              "        text-align: right;\n",
              "    }\n",
              "</style>\n",
              "<table border=\"1\" class=\"dataframe\">\n",
              "  <thead>\n",
              "    <tr style=\"text-align: right;\">\n",
              "      <th></th>\n",
              "      <th>index</th>\n",
              "      <th>App</th>\n",
              "      <th>Category</th>\n",
              "      <th>Rating</th>\n",
              "      <th>Reviews</th>\n",
              "      <th>Size</th>\n",
              "      <th>Installs</th>\n",
              "      <th>Type</th>\n",
              "      <th>Price</th>\n",
              "      <th>Content Rating</th>\n",
              "      <th>Genres</th>\n",
              "      <th>Last Updated</th>\n",
              "      <th>Current Ver</th>\n",
              "      <th>Android Ver</th>\n",
              "      <th>Rating_int</th>\n",
              "    </tr>\n",
              "  </thead>\n",
              "  <tbody>\n",
              "    <tr>\n",
              "      <th>3</th>\n",
              "      <td>3</td>\n",
              "      <td>Sketch - Draw &amp; Paint</td>\n",
              "      <td>ART_AND_DESIGN</td>\n",
              "      <td>4.5</td>\n",
              "      <td>215644</td>\n",
              "      <td>25600.000000</td>\n",
              "      <td>50000000</td>\n",
              "      <td>Free</td>\n",
              "      <td>0.0</td>\n",
              "      <td>Teen</td>\n",
              "      <td>Art &amp; Design</td>\n",
              "      <td>2018-06-08</td>\n",
              "      <td>Varies with device</td>\n",
              "      <td>4.2 and up</td>\n",
              "      <td>4</td>\n",
              "    </tr>\n",
              "    <tr>\n",
              "      <th>12</th>\n",
              "      <td>12</td>\n",
              "      <td>Tattoo Name On My Photo Editor</td>\n",
              "      <td>ART_AND_DESIGN</td>\n",
              "      <td>4.2</td>\n",
              "      <td>44829</td>\n",
              "      <td>20480.000000</td>\n",
              "      <td>10000000</td>\n",
              "      <td>Free</td>\n",
              "      <td>0.0</td>\n",
              "      <td>Teen</td>\n",
              "      <td>Art &amp; Design</td>\n",
              "      <td>2018-04-02</td>\n",
              "      <td>3.8</td>\n",
              "      <td>4.1 and up</td>\n",
              "      <td>4</td>\n",
              "    </tr>\n",
              "    <tr>\n",
              "      <th>18</th>\n",
              "      <td>19</td>\n",
              "      <td>ibis Paint X</td>\n",
              "      <td>ART_AND_DESIGN</td>\n",
              "      <td>4.6</td>\n",
              "      <td>224399</td>\n",
              "      <td>31744.000000</td>\n",
              "      <td>10000000</td>\n",
              "      <td>Free</td>\n",
              "      <td>0.0</td>\n",
              "      <td>Everyone</td>\n",
              "      <td>Art &amp; Design</td>\n",
              "      <td>2018-07-30</td>\n",
              "      <td>5.5.4</td>\n",
              "      <td>4.1 and up</td>\n",
              "      <td>4</td>\n",
              "    </tr>\n",
              "    <tr>\n",
              "      <th>41</th>\n",
              "      <td>42</td>\n",
              "      <td>Textgram - write on photos</td>\n",
              "      <td>ART_AND_DESIGN</td>\n",
              "      <td>4.4</td>\n",
              "      <td>295221</td>\n",
              "      <td>18585.803976</td>\n",
              "      <td>10000000</td>\n",
              "      <td>Free</td>\n",
              "      <td>0.0</td>\n",
              "      <td>Everyone</td>\n",
              "      <td>Art &amp; Design</td>\n",
              "      <td>2018-07-30</td>\n",
              "      <td>Varies with device</td>\n",
              "      <td>Varies with device</td>\n",
              "      <td>4</td>\n",
              "    </tr>\n",
              "    <tr>\n",
              "      <th>44</th>\n",
              "      <td>45</td>\n",
              "      <td>Canva: Poster, banner, card maker &amp; graphic de...</td>\n",
              "      <td>ART_AND_DESIGN</td>\n",
              "      <td>4.7</td>\n",
              "      <td>174531</td>\n",
              "      <td>24576.000000</td>\n",
              "      <td>10000000</td>\n",
              "      <td>Free</td>\n",
              "      <td>0.0</td>\n",
              "      <td>Everyone</td>\n",
              "      <td>Art &amp; Design</td>\n",
              "      <td>2018-07-31</td>\n",
              "      <td>1.6.1</td>\n",
              "      <td>4.1 and up</td>\n",
              "      <td>4</td>\n",
              "    </tr>\n",
              "  </tbody>\n",
              "</table>\n",
              "</div>"
            ],
            "text/plain": [
              "    index  ... Rating_int\n",
              "3       3  ...          4\n",
              "12     12  ...          4\n",
              "18     19  ...          4\n",
              "41     42  ...          4\n",
              "44     45  ...          4\n",
              "\n",
              "[5 rows x 15 columns]"
            ]
          },
          "metadata": {},
          "execution_count": 45
        }
      ]
    },
    {
      "cell_type": "code",
      "metadata": {
        "id": "f_qWW7puYKGX"
      },
      "source": [
        ""
      ],
      "execution_count": null,
      "outputs": []
    }
  ]
}