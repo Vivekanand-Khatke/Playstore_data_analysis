{
  "nbformat": 4,
  "nbformat_minor": 0,
  "metadata": {
    "kernelspec": {
      "display_name": "Python 3",
      "language": "python",
      "name": "python3"
    },
    "language_info": {
      "codemirror_mode": {
        "name": "ipython",
        "version": 3
      },
      "file_extension": ".py",
      "mimetype": "text/x-python",
      "name": "python",
      "nbconvert_exporter": "python",
      "pygments_lexer": "ipython3",
      "version": "3.6.6"
    },
    "colab": {
      "name": "Play Store App Review Analysis (user review) - Capstone Project.ipynb",
      "provenance": [],
      "include_colab_link": true
    }
  },
  "cells": [
    {
      "cell_type": "markdown",
      "metadata": {
        "id": "view-in-github",
        "colab_type": "text"
      },
      "source": [
        "<a href=\"https://colab.research.google.com/github/Vivekanand-Khatke/Playstore_data_analysis/blob/main/Play_Store_App_Review_Analysis_(user_review)_Capstone_Project.ipynb\" target=\"_parent\"><img src=\"https://colab.research.google.com/assets/colab-badge.svg\" alt=\"Open In Colab\"/></a>"
      ]
    },
    {
      "cell_type": "markdown",
      "metadata": {
        "id": "Y06xIdG26kRF"
      },
      "source": [
        "## <b> The Play Store apps data has enormous potential to drive app-making businesses to success. Actionable insights can be drawn for developers to work on and capture the Android market. </b>\n",
        "\n",
        "## <b> Each app (row) has values for catergory, rating, size, and more. Another dataset contains customer reviews of the android apps.</b>\n",
        "\n",
        "## <b> Explore and analyze the data to discover key factors responsible for app engagement and success. </b>"
      ]
    },
    {
      "cell_type": "code",
      "metadata": {
        "id": "dByMsuzT8Tnw"
      },
      "source": [
        "import pandas as pd\n",
        "import numpy as np\n",
        "import matplotlib.lines as mlines\n",
        "from matplotlib import pyplot as plt\n",
        "%matplotlib inline"
      ],
      "execution_count": 2,
      "outputs": []
    },
    {
      "cell_type": "code",
      "metadata": {
        "colab": {
          "base_uri": "https://localhost:8080/"
        },
        "id": "Tnkz02Dw0y1y",
        "outputId": "42d2b132-fae8-4372-80c4-05dc79a1791b"
      },
      "source": [
        "from google.colab import drive\n",
        "drive.mount('/content/drive')"
      ],
      "execution_count": 22,
      "outputs": [
        {
          "output_type": "stream",
          "name": "stdout",
          "text": [
            "Drive already mounted at /content/drive; to attempt to forcibly remount, call drive.mount(\"/content/drive\", force_remount=True).\n"
          ]
        }
      ]
    },
    {
      "cell_type": "code",
      "metadata": {
        "id": "Hd2mIuT61hda"
      },
      "source": [
        "working_dir_path=\"/content/drive/MyDrive/Colab Notebooks/Capstone projects/Playstore app/\"\n",
        "psd_ur=pd.read_csv(working_dir_path + 'User Reviews.csv')\n"
      ],
      "execution_count": 46,
      "outputs": []
    },
    {
      "cell_type": "code",
      "metadata": {
        "colab": {
          "base_uri": "https://localhost:8080/",
          "height": 206
        },
        "id": "o82i_1mP4Vwd",
        "outputId": "8d273feb-332d-454a-d938-6856a34b342b"
      },
      "source": [
        "psd_ur.head()"
      ],
      "execution_count": 47,
      "outputs": [
        {
          "output_type": "execute_result",
          "data": {
            "text/html": [
              "<div>\n",
              "<style scoped>\n",
              "    .dataframe tbody tr th:only-of-type {\n",
              "        vertical-align: middle;\n",
              "    }\n",
              "\n",
              "    .dataframe tbody tr th {\n",
              "        vertical-align: top;\n",
              "    }\n",
              "\n",
              "    .dataframe thead th {\n",
              "        text-align: right;\n",
              "    }\n",
              "</style>\n",
              "<table border=\"1\" class=\"dataframe\">\n",
              "  <thead>\n",
              "    <tr style=\"text-align: right;\">\n",
              "      <th></th>\n",
              "      <th>App</th>\n",
              "      <th>Translated_Review</th>\n",
              "      <th>Sentiment</th>\n",
              "      <th>Sentiment_Polarity</th>\n",
              "      <th>Sentiment_Subjectivity</th>\n",
              "    </tr>\n",
              "  </thead>\n",
              "  <tbody>\n",
              "    <tr>\n",
              "      <th>0</th>\n",
              "      <td>10 Best Foods for You</td>\n",
              "      <td>I like eat delicious food. That's I'm cooking ...</td>\n",
              "      <td>Positive</td>\n",
              "      <td>1.00</td>\n",
              "      <td>0.533333</td>\n",
              "    </tr>\n",
              "    <tr>\n",
              "      <th>1</th>\n",
              "      <td>10 Best Foods for You</td>\n",
              "      <td>This help eating healthy exercise regular basis</td>\n",
              "      <td>Positive</td>\n",
              "      <td>0.25</td>\n",
              "      <td>0.288462</td>\n",
              "    </tr>\n",
              "    <tr>\n",
              "      <th>2</th>\n",
              "      <td>10 Best Foods for You</td>\n",
              "      <td>NaN</td>\n",
              "      <td>NaN</td>\n",
              "      <td>NaN</td>\n",
              "      <td>NaN</td>\n",
              "    </tr>\n",
              "    <tr>\n",
              "      <th>3</th>\n",
              "      <td>10 Best Foods for You</td>\n",
              "      <td>Works great especially going grocery store</td>\n",
              "      <td>Positive</td>\n",
              "      <td>0.40</td>\n",
              "      <td>0.875000</td>\n",
              "    </tr>\n",
              "    <tr>\n",
              "      <th>4</th>\n",
              "      <td>10 Best Foods for You</td>\n",
              "      <td>Best idea us</td>\n",
              "      <td>Positive</td>\n",
              "      <td>1.00</td>\n",
              "      <td>0.300000</td>\n",
              "    </tr>\n",
              "  </tbody>\n",
              "</table>\n",
              "</div>"
            ],
            "text/plain": [
              "                     App  ... Sentiment_Subjectivity\n",
              "0  10 Best Foods for You  ...               0.533333\n",
              "1  10 Best Foods for You  ...               0.288462\n",
              "2  10 Best Foods for You  ...                    NaN\n",
              "3  10 Best Foods for You  ...               0.875000\n",
              "4  10 Best Foods for You  ...               0.300000\n",
              "\n",
              "[5 rows x 5 columns]"
            ]
          },
          "metadata": {},
          "execution_count": 47
        }
      ]
    },
    {
      "cell_type": "code",
      "metadata": {
        "colab": {
          "base_uri": "https://localhost:8080/"
        },
        "id": "_MTHMnYD3i1s",
        "outputId": "541b1359-0f34-470b-b6b3-77b1473264b3"
      },
      "source": [
        "psd_ur.info()"
      ],
      "execution_count": 48,
      "outputs": [
        {
          "output_type": "stream",
          "name": "stdout",
          "text": [
            "<class 'pandas.core.frame.DataFrame'>\n",
            "RangeIndex: 64295 entries, 0 to 64294\n",
            "Data columns (total 5 columns):\n",
            " #   Column                  Non-Null Count  Dtype  \n",
            "---  ------                  --------------  -----  \n",
            " 0   App                     64295 non-null  object \n",
            " 1   Translated_Review       37427 non-null  object \n",
            " 2   Sentiment               37432 non-null  object \n",
            " 3   Sentiment_Polarity      37432 non-null  float64\n",
            " 4   Sentiment_Subjectivity  37432 non-null  float64\n",
            "dtypes: float64(2), object(3)\n",
            "memory usage: 2.5+ MB\n"
          ]
        }
      ]
    },
    {
      "cell_type": "code",
      "metadata": {
        "colab": {
          "base_uri": "https://localhost:8080/",
          "height": 394
        },
        "id": "X6DKPCEoQY5Y",
        "outputId": "65c7c2ee-572b-4187-8586-140c834dbccc"
      },
      "source": [
        "psd_ur.describe(include='all')"
      ],
      "execution_count": 49,
      "outputs": [
        {
          "output_type": "execute_result",
          "data": {
            "text/html": [
              "<div>\n",
              "<style scoped>\n",
              "    .dataframe tbody tr th:only-of-type {\n",
              "        vertical-align: middle;\n",
              "    }\n",
              "\n",
              "    .dataframe tbody tr th {\n",
              "        vertical-align: top;\n",
              "    }\n",
              "\n",
              "    .dataframe thead th {\n",
              "        text-align: right;\n",
              "    }\n",
              "</style>\n",
              "<table border=\"1\" class=\"dataframe\">\n",
              "  <thead>\n",
              "    <tr style=\"text-align: right;\">\n",
              "      <th></th>\n",
              "      <th>App</th>\n",
              "      <th>Translated_Review</th>\n",
              "      <th>Sentiment</th>\n",
              "      <th>Sentiment_Polarity</th>\n",
              "      <th>Sentiment_Subjectivity</th>\n",
              "    </tr>\n",
              "  </thead>\n",
              "  <tbody>\n",
              "    <tr>\n",
              "      <th>count</th>\n",
              "      <td>64295</td>\n",
              "      <td>37427</td>\n",
              "      <td>37432</td>\n",
              "      <td>37432.000000</td>\n",
              "      <td>37432.000000</td>\n",
              "    </tr>\n",
              "    <tr>\n",
              "      <th>unique</th>\n",
              "      <td>1074</td>\n",
              "      <td>27994</td>\n",
              "      <td>3</td>\n",
              "      <td>NaN</td>\n",
              "      <td>NaN</td>\n",
              "    </tr>\n",
              "    <tr>\n",
              "      <th>top</th>\n",
              "      <td>Angry Birds Classic</td>\n",
              "      <td>Good</td>\n",
              "      <td>Positive</td>\n",
              "      <td>NaN</td>\n",
              "      <td>NaN</td>\n",
              "    </tr>\n",
              "    <tr>\n",
              "      <th>freq</th>\n",
              "      <td>320</td>\n",
              "      <td>247</td>\n",
              "      <td>23998</td>\n",
              "      <td>NaN</td>\n",
              "      <td>NaN</td>\n",
              "    </tr>\n",
              "    <tr>\n",
              "      <th>mean</th>\n",
              "      <td>NaN</td>\n",
              "      <td>NaN</td>\n",
              "      <td>NaN</td>\n",
              "      <td>0.182146</td>\n",
              "      <td>0.492704</td>\n",
              "    </tr>\n",
              "    <tr>\n",
              "      <th>std</th>\n",
              "      <td>NaN</td>\n",
              "      <td>NaN</td>\n",
              "      <td>NaN</td>\n",
              "      <td>0.351301</td>\n",
              "      <td>0.259949</td>\n",
              "    </tr>\n",
              "    <tr>\n",
              "      <th>min</th>\n",
              "      <td>NaN</td>\n",
              "      <td>NaN</td>\n",
              "      <td>NaN</td>\n",
              "      <td>-1.000000</td>\n",
              "      <td>0.000000</td>\n",
              "    </tr>\n",
              "    <tr>\n",
              "      <th>25%</th>\n",
              "      <td>NaN</td>\n",
              "      <td>NaN</td>\n",
              "      <td>NaN</td>\n",
              "      <td>0.000000</td>\n",
              "      <td>0.357143</td>\n",
              "    </tr>\n",
              "    <tr>\n",
              "      <th>50%</th>\n",
              "      <td>NaN</td>\n",
              "      <td>NaN</td>\n",
              "      <td>NaN</td>\n",
              "      <td>0.150000</td>\n",
              "      <td>0.514286</td>\n",
              "    </tr>\n",
              "    <tr>\n",
              "      <th>75%</th>\n",
              "      <td>NaN</td>\n",
              "      <td>NaN</td>\n",
              "      <td>NaN</td>\n",
              "      <td>0.400000</td>\n",
              "      <td>0.650000</td>\n",
              "    </tr>\n",
              "    <tr>\n",
              "      <th>max</th>\n",
              "      <td>NaN</td>\n",
              "      <td>NaN</td>\n",
              "      <td>NaN</td>\n",
              "      <td>1.000000</td>\n",
              "      <td>1.000000</td>\n",
              "    </tr>\n",
              "  </tbody>\n",
              "</table>\n",
              "</div>"
            ],
            "text/plain": [
              "                        App  ... Sentiment_Subjectivity\n",
              "count                 64295  ...           37432.000000\n",
              "unique                 1074  ...                    NaN\n",
              "top     Angry Birds Classic  ...                    NaN\n",
              "freq                    320  ...                    NaN\n",
              "mean                    NaN  ...               0.492704\n",
              "std                     NaN  ...               0.259949\n",
              "min                     NaN  ...               0.000000\n",
              "25%                     NaN  ...               0.357143\n",
              "50%                     NaN  ...               0.514286\n",
              "75%                     NaN  ...               0.650000\n",
              "max                     NaN  ...               1.000000\n",
              "\n",
              "[11 rows x 5 columns]"
            ]
          },
          "metadata": {},
          "execution_count": 49
        }
      ]
    },
    {
      "cell_type": "code",
      "metadata": {
        "colab": {
          "base_uri": "https://localhost:8080/"
        },
        "id": "_pIj6SizHExI",
        "outputId": "64536b8a-f0fc-4124-a7a3-49f244dde9c3"
      },
      "source": [
        "psd_ur.shape"
      ],
      "execution_count": 50,
      "outputs": [
        {
          "output_type": "execute_result",
          "data": {
            "text/plain": [
              "(64295, 5)"
            ]
          },
          "metadata": {},
          "execution_count": 50
        }
      ]
    },
    {
      "cell_type": "code",
      "metadata": {
        "id": "di_7VysN5tOy"
      },
      "source": [
        "psd_ur.drop(\"Translated_Review\", axis=1, inplace=True)"
      ],
      "execution_count": 51,
      "outputs": []
    },
    {
      "cell_type": "code",
      "metadata": {
        "colab": {
          "base_uri": "https://localhost:8080/",
          "height": 206
        },
        "id": "90_CSIYHG60L",
        "outputId": "8c9ec7cc-d8ec-4ab9-a7c0-02a535e4035b"
      },
      "source": [
        "psd_ur.head()"
      ],
      "execution_count": 52,
      "outputs": [
        {
          "output_type": "execute_result",
          "data": {
            "text/html": [
              "<div>\n",
              "<style scoped>\n",
              "    .dataframe tbody tr th:only-of-type {\n",
              "        vertical-align: middle;\n",
              "    }\n",
              "\n",
              "    .dataframe tbody tr th {\n",
              "        vertical-align: top;\n",
              "    }\n",
              "\n",
              "    .dataframe thead th {\n",
              "        text-align: right;\n",
              "    }\n",
              "</style>\n",
              "<table border=\"1\" class=\"dataframe\">\n",
              "  <thead>\n",
              "    <tr style=\"text-align: right;\">\n",
              "      <th></th>\n",
              "      <th>App</th>\n",
              "      <th>Sentiment</th>\n",
              "      <th>Sentiment_Polarity</th>\n",
              "      <th>Sentiment_Subjectivity</th>\n",
              "    </tr>\n",
              "  </thead>\n",
              "  <tbody>\n",
              "    <tr>\n",
              "      <th>0</th>\n",
              "      <td>10 Best Foods for You</td>\n",
              "      <td>Positive</td>\n",
              "      <td>1.00</td>\n",
              "      <td>0.533333</td>\n",
              "    </tr>\n",
              "    <tr>\n",
              "      <th>1</th>\n",
              "      <td>10 Best Foods for You</td>\n",
              "      <td>Positive</td>\n",
              "      <td>0.25</td>\n",
              "      <td>0.288462</td>\n",
              "    </tr>\n",
              "    <tr>\n",
              "      <th>2</th>\n",
              "      <td>10 Best Foods for You</td>\n",
              "      <td>NaN</td>\n",
              "      <td>NaN</td>\n",
              "      <td>NaN</td>\n",
              "    </tr>\n",
              "    <tr>\n",
              "      <th>3</th>\n",
              "      <td>10 Best Foods for You</td>\n",
              "      <td>Positive</td>\n",
              "      <td>0.40</td>\n",
              "      <td>0.875000</td>\n",
              "    </tr>\n",
              "    <tr>\n",
              "      <th>4</th>\n",
              "      <td>10 Best Foods for You</td>\n",
              "      <td>Positive</td>\n",
              "      <td>1.00</td>\n",
              "      <td>0.300000</td>\n",
              "    </tr>\n",
              "  </tbody>\n",
              "</table>\n",
              "</div>"
            ],
            "text/plain": [
              "                     App Sentiment  Sentiment_Polarity  Sentiment_Subjectivity\n",
              "0  10 Best Foods for You  Positive                1.00                0.533333\n",
              "1  10 Best Foods for You  Positive                0.25                0.288462\n",
              "2  10 Best Foods for You       NaN                 NaN                     NaN\n",
              "3  10 Best Foods for You  Positive                0.40                0.875000\n",
              "4  10 Best Foods for You  Positive                1.00                0.300000"
            ]
          },
          "metadata": {},
          "execution_count": 52
        }
      ]
    },
    {
      "cell_type": "code",
      "metadata": {
        "colab": {
          "base_uri": "https://localhost:8080/"
        },
        "id": "lcPQ9cUeJKnI",
        "outputId": "63eb51e9-07c3-4277-8100-f6ccc903c502"
      },
      "source": [
        "psd_ur.shape"
      ],
      "execution_count": 53,
      "outputs": [
        {
          "output_type": "execute_result",
          "data": {
            "text/plain": [
              "(64295, 4)"
            ]
          },
          "metadata": {},
          "execution_count": 53
        }
      ]
    },
    {
      "cell_type": "code",
      "metadata": {
        "colab": {
          "base_uri": "https://localhost:8080/"
        },
        "id": "Z74XunzDBxp7",
        "outputId": "4faa7255-8aee-4f5e-ca70-773d61a79420"
      },
      "source": [
        "psd_ur.isnull().sum()"
      ],
      "execution_count": 54,
      "outputs": [
        {
          "output_type": "execute_result",
          "data": {
            "text/plain": [
              "App                           0\n",
              "Sentiment                 26863\n",
              "Sentiment_Polarity        26863\n",
              "Sentiment_Subjectivity    26863\n",
              "dtype: int64"
            ]
          },
          "metadata": {},
          "execution_count": 54
        }
      ]
    },
    {
      "cell_type": "code",
      "metadata": {
        "id": "jzm0JIv9IQ8T"
      },
      "source": [
        "psd_ur= psd_ur.dropna()"
      ],
      "execution_count": 55,
      "outputs": []
    },
    {
      "cell_type": "code",
      "metadata": {
        "colab": {
          "base_uri": "https://localhost:8080/"
        },
        "id": "tl3y2P8NJTuy",
        "outputId": "1c31962d-55fb-4ec5-9729-cc7b895d30b2"
      },
      "source": [
        "psd_ur.shape"
      ],
      "execution_count": 56,
      "outputs": [
        {
          "output_type": "execute_result",
          "data": {
            "text/plain": [
              "(37432, 4)"
            ]
          },
          "metadata": {},
          "execution_count": 56
        }
      ]
    },
    {
      "cell_type": "code",
      "metadata": {
        "colab": {
          "base_uri": "https://localhost:8080/"
        },
        "id": "jqZMWFwqBLBj",
        "outputId": "4877c664-a9ba-444e-c7a7-8177f93594cd"
      },
      "source": [
        "psd_ur.App.unique()"
      ],
      "execution_count": 57,
      "outputs": [
        {
          "output_type": "execute_result",
          "data": {
            "text/plain": [
              "array(['10 Best Foods for You', '104 找工作 - 找工作 找打工 找兼職 履歷健檢 履歷診療室',\n",
              "       '11st', '1800 Contacts - Lens Store',\n",
              "       '1LINE – One Line with One Touch',\n",
              "       '2018Emoji Keyboard 😂 Emoticons Lite -sticker&gif',\n",
              "       '21-Day Meditation Experience',\n",
              "       '2Date Dating App, Love and matching',\n",
              "       '2GIS: directory & navigator', '2RedBeans',\n",
              "       '2ndLine - Second Phone Number',\n",
              "       '30 Day Fitness Challenge - Workout at Home',\n",
              "       '365Scores - Live Scores', '3D Live Neon Weed Launcher',\n",
              "       '4 in a Row', '4K Wallpapers and Ultra HD Backgrounds',\n",
              "       '591房屋交易-租屋、中古屋、新建案、實價登錄、別墅透天、公寓套房、捷運、買房賣房行情、房價房貸查詢', '591房屋交易-香港',\n",
              "       '7 Cups: Anxiety & Stress Chat', '7 Day Food Journal Challenge',\n",
              "       '7 Minute Workout', '7 Weeks - Habit & Goal Tracker',\n",
              "       '8 Ball Pool', '850 Sports News Digest',\n",
              "       '8fit Workouts & Meal Planner', '95Live -SG#1 Live Streaming App',\n",
              "       'A Call From Santa Claus!', 'A Word A Day',\n",
              "       'A&E - Watch Full Episodes of TV Shows',\n",
              "       'A+ Gallery - Photos & Videos', 'A+ Mobile',\n",
              "       'ABC Kids - Tracing & Phonics', 'ABC News - US & World News',\n",
              "       'ABC Preschool Free', 'ABCmouse.com',\n",
              "       'AC - Tips & News for Android™', 'ACE Elite',\n",
              "       'AD - Nieuws, Sport, Regio & Entertainment', 'AMC Theatres', 'ANA',\n",
              "       'AOL - News, Mail & Video', 'AP Mobile - Breaking News',\n",
              "       'APE Weather ( Live Forecast)',\n",
              "       'APUS Launcher - Theme, Wallpaper, Hide Apps', 'ARY NEWS',\n",
              "       'ARY NEWS URDU', 'ASOS', 'ASUS Calling Screen',\n",
              "       'ASUS Cover for ZenFone 2', 'ASUS Quick Memo',\n",
              "       'ASUS Sound Recorder', 'ASUS SuperNote',\n",
              "       'AT&T Navigator: Maps, Traffic', 'AT&T Smart Wi-Fi',\n",
              "       'AT&T Visual Voicemail',\n",
              "       'AVG Cleaner – Speed, Battery & Memory Booster',\n",
              "       'Abs Training-Burn belly fat', 'Account Manager',\n",
              "       'Accounting App - Zoho Books',\n",
              "       'AccuWeather: Daily Forecast & Live Weather Reports',\n",
              "       'Acorn TV: World-class TV from Britain and Beyond',\n",
              "       'Acorns - Invest Spare Change', 'AdWords Express',\n",
              "       'Ada - Your Health Guide', 'Add Text To Photo',\n",
              "       'Adobe Acrobat Reader',\n",
              "       'Adobe Photoshop Express:Photo Editor Collage Maker',\n",
              "       'Advanced Task Killer', 'Agar.io', 'Age Calculator',\n",
              "       'Agoda – Hotel Booking Deals', 'Air Traffic', 'AirAsia',\n",
              "       'AirBrush: Easy Photo Editor', 'Airbnb',\n",
              "       'Airport + Flight Tracker Radar',\n",
              "       'Airway Ex - Intubate. Anesthetize. Train.', 'Akinator',\n",
              "       'AlReader -any text book reader', 'Alarm Clock',\n",
              "       'Alarm Clock Free', 'Alfred Home Security Camera',\n",
              "       'AliExpress - Smarter Shopping, Better Living',\n",
              "       'All Email Providers', 'All Events in City',\n",
              "       'All Football - Latest News & Videos',\n",
              "       'All Football GO- Live Score, Games',\n",
              "       'All Language Translator Free', 'All Maths Formulas',\n",
              "       'All Mental disorders', 'All Social Networks',\n",
              "       'All Video Downloader 2018',\n",
              "       'All-In-One Toolbox: Cleaner, Booster, App Manager',\n",
              "       'All-in-One Mahjong 3 FREE', 'Allegiant',\n",
              "       'Allrecipes Dinner Spinner', \"Alto's Adventure\", 'Amazon Drive',\n",
              "       'Amazon FreeTime – Kids’ Videos, Books, & TV shows',\n",
              "       'Amazon Kindle', 'Amazon Prime Video', 'Amazon Shopping',\n",
              "       'Amazon for Tablets', 'American Airlines', 'Amex Mobile',\n",
              "       'Amino: Communities and Chats', 'Amtrak',\n",
              "       'Anatomy Learning - 3D Atlas', 'Ancestry',\n",
              "       'AndroZip™ FREE File Manager',\n",
              "       'Android Auto - Maps, Media, Messaging & Voice',\n",
              "       'Android Messages', 'Anger of stick 5 : zombie', 'Angry Birds 2',\n",
              "       'Angry Birds Classic', 'Angry Birds Rio', 'Animal Planet GO',\n",
              "       'Animated Photo Editor',\n",
              "       'Anime Avatar Creator: Make Your Own Avatar',\n",
              "       'Anime Manga Coloring Book', 'Anthem Anywhere',\n",
              "       'Anthem BC Anywhere',\n",
              "       'Any.do: To-do list, Calendar, Reminders & Planner',\n",
              "       'Apartment Decorating Ideas',\n",
              "       'Apartment List: Housing, Apt, and Property Rentals',\n",
              "       'Apartment, Home Rental Search: Realtor.com Rentals',\n",
              "       'Apartments & Rentals - Zillow', 'Apartments.com Rental Search',\n",
              "       'Apex Launcher', 'Apk Installer', 'App vault', 'AppLock',\n",
              "       'AppLock - Fingerprint', 'Apple Daily 蘋果動新聞',\n",
              "       'Aprender inglés con Wlingua', 'Archos File Manager', 'Arrow.io',\n",
              "       'Asana: organize team projects', 'Ascape VR: 360° Virtual Travel',\n",
              "       'Asphalt 8: Airborne', 'Associated Credit Union Mobile',\n",
              "       'Asteroids 3D live wallpaper',\n",
              "       'Atlan3D Navigation: Korea navigator',\n",
              "       'AutoCAD - DWG Viewer & Editor',\n",
              "       'AutoScout24 Switzerland – Find your new car',\n",
              "       'Avakin Life - 3D virtual world', 'Aviary Effects: Classic',\n",
              "       'Aviary Stickers: Free Pack', 'Azar', 'Azpen eReader',\n",
              "       'B612 - Beauty & Filter Camera', 'BBC Media Player', 'BBC News',\n",
              "       'BBC Sport', 'BBM - Free Calls & Messages', 'BBVA Compass Banking',\n",
              "       'BBVA Spain', 'BBW Dating & Curvy Singles Chat- LargeFriends',\n",
              "       'BBW Dating & Plus Size Chat', 'BBWCupid - BBW Dating App',\n",
              "       'BELONG Beating Cancer Together', 'BEST CAR SOUNDS',\n",
              "       'BET NOW - Watch Shows', 'BEYBLADE BURST app', 'BIG Launcher',\n",
              "       'BLK - Swipe. Match. Chat.', 'BZWBK24 mobile',\n",
              "       'BaBe - Baca Berita', 'BaBe Lite - Baca Berita Hemat Kuota',\n",
              "       'BaBe+ - Berita Indonesia', 'Babbel – Learn Languages',\n",
              "       'Babbel – Learn Spanish',\n",
              "       'Baby ABC in box! Kids alphabet games for toddlers!',\n",
              "       'Baby Monitor', 'Baby Name Together', 'Baby Panda Care',\n",
              "       'Baby Panda Learns Shapes', 'Baby Panda Musical Genius',\n",
              "       'Baby Panda’s Juice Shop',\n",
              "       'Baby Tiger Care - My Cute Virtual Pet Friend', 'Baby puzzles',\n",
              "       'Baca- Berita Terbaru, Informasi, Gosip dan Politik',\n",
              "       'Backgrounds (HD Wallpapers)', 'Backgrounds HD (Wallpapers)',\n",
              "       'BaconReader for Reddit', 'Bad Piggies',\n",
              "       'Badoo - Free Chat & Dating App', 'Bagan - Myanmar Keyboard',\n",
              "       'Banco Itaú', 'Banco do Brasil', 'Bancomer móvil',\n",
              "       'Banfield Pet Health Tracker', 'Bangla Newspaper – Prothom Alo',\n",
              "       'Banjo', 'Bank of America Mobile Banking', 'BankMobile Vibe App',\n",
              "       'Banorte Movil', 'Banque Populaire', 'Barbie Life™',\n",
              "       'Barbie Magical Fashion', 'Barbie™ Fashion Closet',\n",
              "       'Barclays US for Android', 'Barcode Scanner',\n",
              "       'Baritastic - Bariatric Tracker', 'Baseball Boy!',\n",
              "       'Basketball FRVR - Shoot the Hoop and Slam Dunk!',\n",
              "       'Basketball Stars', 'Bathroom Decorating Ideas',\n",
              "       'Battlelands Royale', 'Be A Legend: Soccer',\n",
              "       'BeSoccer - Soccer Live Score', 'BeWild Free Dating & Chat App',\n",
              "       'Beautiful Design Birthday Cake', 'Beautiful Widgets Free',\n",
              "       'Beautiful Widgets Pro', 'Beauty Camera - Selfie Camera',\n",
              "       'Beauty Makeup Snappy Collage Photo Editor - Lidow',\n",
              "       'BeautyPlus - Easy Photo Editor & Selfie Camera',\n",
              "       'Bed Time Fan - White Noise Sleep Sounds', 'Best Car Wallpapers',\n",
              "       'Best Fiends - Free Puzzle Game',\n",
              "       'Best Ovulation Tracker Fertility Calendar App Glow',\n",
              "       'Best Wallpapers Backgrounds(100,000+ 4K HD)',\n",
              "       'Best Wallpapers QHD',\n",
              "       'BestCam Selfie-selfie, beauty camera, photo editor',\n",
              "       'BetterMe: Weight Loss Workouts', 'Betterment',\n",
              "       'BeyondMenu Food Delivery', 'BeyondPod Podcast Manager', 'Bible',\n",
              "       'Big Days - Events Countdown',\n",
              "       'BigOven Recipes, Meal Planner, Grocery List & More',\n",
              "       'BiggerCity: Chat for gay bears, chubs & chasers',\n",
              "       'Bike Computer - GPS Cycling Tracker', 'Binaural Beats Meditation',\n",
              "       'Binaural Beats Therapy', 'BioLife Plasma Services',\n",
              "       'Birdays – Birthday reminder',\n",
              "       'Birds Sounds Ringtones & Wallpapers',\n",
              "       'Black People Meet Singles Date', 'Block Puzzle',\n",
              "       'Block Puzzle Classic Legend !', 'Blogaway for Android (Blogger)',\n",
              "       'Blogger', \"Bloglovin'\", 'Blood Donor', 'Blood Pressure',\n",
              "       'Blood Pressure Log - MyDiary', 'Blood Pressure(BP) Diary',\n",
              "       'Bloomberg Professional', 'Bloomberg: Market & Financial News',\n",
              "       'Blossom Blast Saga', 'BluTV', 'Blur Image Background',\n",
              "       'Blur Image Background Editor (Blur Photo Editor)',\n",
              "       'Booking.com Travel Deals', 'Bowmasters', 'Box', 'Boxed Wholesale',\n",
              "       \"Boys Photo Editor - Six Pack & Men's Suit\",\n",
              "       'Brain Waves - Binaural Beats', 'Branch',\n",
              "       'Brasileirão Pro 2018 - Série A e B',\n",
              "       'Breaking News, Local news, Attacks and Alerts Free',\n",
              "       'Brightest Flashlight Free ®', 'Brightest LED Flashlight',\n",
              "       'Brilliant', 'Brit + Co', 'British Airways', 'Browser 4G',\n",
              "       'Bualuang mBanking', 'Bubble Shooter', 'Bubble Shooter 2',\n",
              "       'Bubble Shooter Genies', 'Bubble Shooter Space',\n",
              "       'Bubble Witch 3 Saga', 'Buienradar - weer', 'Build a Bridge!',\n",
              "       'Bukalapak - Jual Beli Online', 'BukuBayi - Perkembangan Bayi',\n",
              "       'Burner - Free Phone Number', 'Buscapé - Ofertas e descontos',\n",
              "       'Business Calendar 2', 'Butterfly Live Wallpaper',\n",
              "       'Buzz Launcher-Smart&Free Theme', 'BuzzFeed: News, Tasty, Quizzes',\n",
              "       'BÁO MỚI - Đọc Báo, Tin Tức 24h', 'C Programming',\n",
              "       'C++ Programming', 'C++ Tutorials', 'CAIXA',\n",
              "       'CALCU™ Stylish Calculator Free', 'CATS: Crash Arena Turbo Stars',\n",
              "       'CBS News', 'CBS Sports App - Scores, News, Stats & Watch Live',\n",
              "       'CBS Sports Fantasy', 'CDL Practice Test 2018 Edition',\n",
              "       'CIA - Caller ID & Call Blocker',\n",
              "       'CM Browser - Ad Blocker , Fast Download , Privacy',\n",
              "       'CM Flashlight (Compass, SOS)',\n",
              "       'CM Launcher 3D - Theme, Wallpapers, Efficient',\n",
              "       'CM Locker - Security Lockscreen', 'CMB Free Dating App',\n",
              "       'CNBC: Breaking Business News & Live Market Data',\n",
              "       'CNN Breaking US & World News', \"COOKING MAMA Let's Cook!\",\n",
              "       'CVS Caremark', 'CW Seed', 'CWT To Go',\n",
              "       'Cache Cleaner-DU Speed Booster (booster & cleaner)',\n",
              "       'Caf - Mon Compte',\n",
              "       'Calculator - free calculator, multi calculator app',\n",
              "       'Calculator - unit converter', 'Calculator Plus Free',\n",
              "       'Calculator with Percent (Free)', 'Calendar Widget Month + Agenda',\n",
              "       'Calendar+ Schedule Planner App', 'Call Blocker',\n",
              "       'Call Control - Call Blocker', 'Call of Duty:Black Ops Zombies',\n",
              "       'CallApp: Caller ID, Blocker & Phone Call Recorder', 'Caller ID +',\n",
              "       'Calls & Text by Mo+', 'Calls Blacklist - Call Blocker',\n",
              "       'Calm - Meditate, Sleep, Relax', 'Calorie Counter & Diet Tracker',\n",
              "       'Calorie Counter - EasyFit free', 'Calorie Counter - Macros',\n",
              "       'Calorie Counter - MyFitnessPal', 'Calorie Counter - MyNetDiary',\n",
              "       'Cameringo Lite. Filters Camera', 'Candy Bomb',\n",
              "       'Candy Camera - selfie, beauty camera, photo editor',\n",
              "       'Candy Crush Jelly Saga', 'Candy Crush Saga',\n",
              "       'Candy Crush Soda Saga', 'Candy Day', 'Candy Pop Story',\n",
              "       'Candy Smash', 'Candy selfie - photo editor, live filter camera',\n",
              "       'Canva: Poster, banner, card maker & graphic design',\n",
              "       'Canvas Student', 'Cat Sim Online: Play with Cats',\n",
              "       'Caviar - Food Delivery', 'Chakra Cleansing', 'Championat',\n",
              "       'Chapters: Interactive Stories', 'Chase Mobile',\n",
              "       'Chat Rooms, Avatars, Date - Galaxy', 'ChatVideo Meet new people',\n",
              "       'Cheap Flights & Hotels momondo',\n",
              "       'Cheap hotel deals and discounts — Hotellook',\n",
              "       'CheapTickets – Hotels, Flights & Travel Deals',\n",
              "       'Cheapflights – Flight Search', 'CheckPoints 🏆 Rewards App',\n",
              "       'Checkers ✔️', 'Checkout 51: Grocery coupons', 'Choice Hotels',\n",
              "       'Choices: Stories You Play', 'Christian Dating For Free App',\n",
              "       'Chrome Beta', 'Chrome Dev', 'Cinemark Theatres',\n",
              "       'Cisco Webex Meetings', 'Cisco Webex Teams', 'Citi Mobile®',\n",
              "       'Citibanamex Movil', 'Citizens Bank Mobile Banking',\n",
              "       'CityMaps2Go Plan Trips Travel Guide Offline Maps', 'Claro',\n",
              "       'Clash Royale', 'Clash of Clans', 'Color Flashlight', 'Color Road',\n",
              "       'Color Touch Effects', 'Color by Number - Draw Sandbox Pixel Art',\n",
              "       'Color by Number – New Coloring Book',\n",
              "       'ColorFil - Adult Coloring Book', 'ColorNote Notepad Notes',\n",
              "       'ColorSnap® Visualizer', 'Colorfit - Drawing & Coloring',\n",
              "       'Colorful Glitter Neon Butterfly Keyboard Theme',\n",
              "       'Colorfy: Coloring Book for Adults - Free', 'Coloring & Learn',\n",
              "       'Coloring book moana', 'Comedy Central', 'Common Core',\n",
              "       'Comptia A+ 220-901 & 220-902', 'ConnectLine', 'Contacts',\n",
              "       'Contacts+', 'Content Transfer', 'ConvertPad - Unit Converter',\n",
              "       'Cookbook Recipes', 'Cooking Channel', 'Cooking Fever',\n",
              "       \"Cooking Madness - A Chef's Restaurant Games\", 'Cookpad',\n",
              "       'Cool Popular Ringtones 2018 🔥', 'Cool Reader',\n",
              "       'Couch to 10K Running Trainer', 'Couch to 5K by RunDouble',\n",
              "       'Couchsurfing Travel App',\n",
              "       'Cougar Dating Life : Date Older Women Sugar Mummy',\n",
              "       'Couple - Relationship App', 'Credit Karma', 'Credit Sesame',\n",
              "       'CreditWise from Capital One',\n",
              "       'Crew - Free Messaging and Scheduling',\n",
              "       'Cricbuzz - Live Cricket Scores & News',\n",
              "       'Cricket Visual Voicemail', 'Crossy Road',\n",
              "       'Crunchyroll - Everything Anime',\n",
              "       'Current debit card and app made for teens',\n",
              "       'Curriculum vitae App CV Builder Free Resume Maker',\n",
              "       'Curso de Ingles Gratis', 'Cut the Rope 2',\n",
              "       'Cut the Rope FULL FREE', 'Cycling - Bike Tracker',\n",
              "       'Cymera Camera- Photo Editor, Filter,Collage,Layout',\n",
              "       'Czech Public Transport IDOS', 'DC Comics', 'DC Super Hero Girls™',\n",
              "       'DEAD TARGET: FPS Zombie Apocalypse Survival Games',\n",
              "       'DEER HUNTER 2018', 'DELISH KITCHEN - 無料レシピ動画で料理を楽しく・簡単に！',\n",
              "       'DINO HUNTER: DEADLY SHORES', 'DIY Garden Ideas',\n",
              "       'DIY On A Budget', 'DMV Permit Practice Test 2018 Edition',\n",
              "       'DRAGON BALL LEGENDS', 'DSLR Camera Hd Ultra Professional',\n",
              "       'DStv Now', 'DU Browser—Browse fast & fun',\n",
              "       'DU Recorder – Screen Recorder, Video Editor, Live',\n",
              "       'Daily Workouts - Exercise Fitness Routine Trainer',\n",
              "       'Daily Yoga - Yoga Fitness Plans',\n",
              "       'Dailyhunt (Newshunt) - Latest News, Viral Videos', 'Dairy Queen',\n",
              "       'Daniel Tiger for Parents', 'DashClock Widget',\n",
              "       'Dashlane Free Password Manager',\n",
              "       'Dating App, Flirt & Chat : W-Match',\n",
              "       'Dating for 50 plus Mature Singles – FINALLY', 'Daum Mail - 다음 메일',\n",
              "       \"Davis's Drug Guide\", \"Davis's Drug Guide for Nurses\",\n",
              "       'Debonairs Pizza',\n",
              "       'Delivery Club–Доставка еды:пицца,суши,бургер,салат',\n",
              "       'Delta Dental', 'Despegar.com Hoteles y Vuelos',\n",
              "       'Detector de Radares Gratis', 'Device Help',\n",
              "       'Diabetes & Diet Tracker', 'Diabetes:M',\n",
              "       'Diamond Zipper Lock Screen', 'Diary with lock',\n",
              "       'Diary with lock password', 'Dictionary - Merriam-Webster',\n",
              "       'Die TK-App – alles im Griff', 'Digg', 'DigiCal Calendar Agenda',\n",
              "       'Digit Save Money Automatically', 'Digital Alarm Clock', 'Dil Mil',\n",
              "       'Dino War: Rise of Beasts', 'Dinosaur Simulator: Dino World',\n",
              "       'Discover Mobile', 'Disney Heroes: Battle Mode',\n",
              "       'Disney Magic Kingdoms: Build Your Own Magical Park',\n",
              "       'DisneyNOW – TV Shows & Games', 'Divar',\n",
              "       'Do It Later: Tasks & To-Dos', 'Docs To Go™ Free Office Suite',\n",
              "       'Doctor On Demand', 'Doctor Pets', 'Dog Licks Screen Wallpaper',\n",
              "       'Dog Run - Pet Dog Simulator', 'Dog Sim Online: Raise a Family',\n",
              "       \"Domino's Pizza USA\", 'Dominos Game ✔️',\n",
              "       'Domofond Недвижимость. Купить, снять квартиру.', 'Doodle Jump',\n",
              "       'Door Lock Screen', 'DoorDash - Food Delivery',\n",
              "       'Dosecast - Medication Reminder', 'Down Dog: Great Yoga Anywhere',\n",
              "       'Dr. Oetker Rezeptideen', \"Dr. Panda & Toto's Treehouse\",\n",
              "       'Dr. Panda Restaurant 3', 'Dr. Panda Town: Vacation',\n",
              "       'DraftKings - Daily Fantasy Sports', 'Dragon Hills',\n",
              "       'Draw A Stickman', 'Draw In', 'Draw Your Game',\n",
              "       'Draw a Stickman: EPIC 2',\n",
              "       'Drawing for Kids Learning Games for Toddlers age 3',\n",
              "       'Dream League Soccer 2018', 'DreamTrips', 'DreamWorks Friends',\n",
              "       'Dresses Ideas & Fashions +3000', 'Droid Zap by Motorola',\n",
              "       'DroidAdmin for Android - Advice', 'Dropbox',\n",
              "       'Drugs.com Medication Guide', 'Dude Perfect 2',\n",
              "       'Dumb Ways to Die 2: The Games',\n",
              "       'Dungeon Hunter Champions: Epic Online Action RPG',\n",
              "       \"Dunkin' Donuts\", 'Duolingo: Learn Languages Free', 'DuraSpeed',\n",
              "       'E*TRADE Mobile', 'Easy - taxi, car, ridesharing',\n",
              "       'Easy Hair Style Design', 'Easy Healthy Recipes',\n",
              "       'Easy Installer - Apps On SD', 'Easy Makeup Tutorials',\n",
              "       'Easy Origami Ideas', 'Easy Recipes', 'Easy Voice Recorder',\n",
              "       'EasyBib: Citation Generator', 'Eat Fit - Diet and Health Free',\n",
              "       'Eat24 Food Delivery & Takeout', 'EatStreet Food Delivery App',\n",
              "       'Ebates: Cash Back, Coupons, Rewards & Savings', 'Ebook Reader',\n",
              "       'Ecobank Mobile Banking', 'Edmodo', 'Educational Games 4 Kids',\n",
              "       'Educational Games for Kids', 'El tiempo de AEMET',\n",
              "       'English with Lingualeo', 'English-Myanmar Dictionary', 'Entel',\n",
              "       'Enterprise Rent-A-Car', 'Episode - Choose Your Story',\n",
              "       'Epocrates Plus', 'Equestria Girls', 'Essential Anatomy 3',\n",
              "       'Essential Resources', 'Etsy: Handmade & Vintage Goods',\n",
              "       'Etta Homes', 'Eurosport',\n",
              "       'Eve Period Tracker - Love, Sex & Relationships App',\n",
              "       'Even - organize your money, get paid early',\n",
              "       'Evernote – Organizer, Planner for Notes & Memos', 'Evie Launcher',\n",
              "       'ExDialer - Dialer & Contacts',\n",
              "       'Expedia Hotels, Flights & Car Rental Travel Deals',\n",
              "       'Expense IQ Money Manager', 'Experian - Free Credit Report',\n",
              "       'Extreme Car Driving Simulator', 'Extreme Coupon Finder',\n",
              "       'Extreme Match', 'Extreme Racing 2 - Real driving RC cars game!',\n",
              "       'EyeCloud', 'EyeEm - Camera & Photo Filter', 'EzCalculator',\n",
              "       'FBReader: Favorite Book Reader', 'FERZU - Furries Social Network',\n",
              "       'FIFA - Tournaments, Soccer News & Live Scores',\n",
              "       'FINAL FANTASY BRAVE EXVIUS', 'FOSSIL Q: DESIGN YOUR DIAL', 'FOX',\n",
              "       'FOX NOW - On Demand & Live TV',\n",
              "       'FOX Sports: Live Streaming, Scores & News',\n",
              "       'FREEDOME VPN Unlimited anonymous Wifi Security',\n",
              "       'FUN Keyboard – Emoji Keyboard, Sticker,Theme & GIF',\n",
              "       'Fabulous: Motivate Me! Meditate, Relax, Sleep',\n",
              "       'Face Filter, Selfie Editor - Sweet Camera', 'Facebook',\n",
              "       'Facebook Ads Manager', 'Facebook Lite', 'Facebook Local',\n",
              "       'Facebook Pages Manager', 'Facetune - Ad Free',\n",
              "       'Fake Call - Fake Caller ID', 'Fallout Shelter',\n",
              "       'Family Album Mitene: Private Photo & Video Sharing',\n",
              "       'Family Dollar',\n",
              "       'Family GPS Tracker and Chat + Baby Monitor Online',\n",
              "       'Family GPS tracker KidControl + GPS by SMS Locator',\n",
              "       'Family Locator - GPS Tracker', 'FamilySearch Tree',\n",
              "       'FanDuel: Daily Fantasy Sports', 'Fancy Widgets',\n",
              "       'Fandango Movies - Times + Tickets', 'Fantasy Football',\n",
              "       'Fantasy Football & NFL News', 'Fantasy Football Manager (FPL)',\n",
              "       'Farm Fruit Pop: Party Time', 'Farm Heroes Saga',\n",
              "       'Farming Simulator 14', 'Farming Simulator 18', 'Fashion in Vogue',\n",
              "       'Fast News', 'Fast Scanner : Free PDF Scan', 'Fast Secure VPN',\n",
              "       'FastMeet: Chat, Dating, Love',\n",
              "       'Fat Burning Workout - Home Weight lose',\n",
              "       'Fate/Grand Order (English)',\n",
              "       'FidMe Loyalty Cards & Deals at Grocery Supermarket',\n",
              "       'File Browser by Astro (File Manager)', 'File Explorer',\n",
              "       'File Manager',\n",
              "       'File Manager -- Take Command of Your Files Easily',\n",
              "       'Files Go by Google: Free up space on your phone',\n",
              "       'FilterGrid - Cam&Photo Editor', 'Filters for B Live',\n",
              "       'Filters for Selfie', 'Final Fantasy XV: A New Empire',\n",
              "       'Financial Times', 'Find Dining Restaurant Finder',\n",
              "       'Find a Way: Addictive Puzzle', 'Find&Save - Local Shopping',\n",
              "       'FindShip', 'Firefox Browser fast & private',\n",
              "       'Firefox Focus: The privacy browser', 'Fishdom', 'Fitbit',\n",
              "       'Flashlight', 'Flashlight & LED Torch',\n",
              "       'Flashlight - Torch LED Light', 'Flashlight HD LED', 'Flickr',\n",
              "       'Flight & Hotel Booking App - ixigo',\n",
              "       'Flightradar24 Flight Tracker', 'Flights',\n",
              "       'Flip the Gun - Simulator Game', 'FlipaClip - Cartoon animation',\n",
              "       'Flipboard: News For Our Time', 'Flipkart Online Shopping App',\n",
              "       'Flipp - Weekly Shopping',\n",
              "       'Flippy Campus - Buy & sell on campus at a discount',\n",
              "       'FlirtChat - ♥Free Dating/Flirting App♥', 'Floor Plan Creator',\n",
              "       'Flow Free', 'Flowers Live Wallpaper', 'Fly Delta',\n",
              "       'FollowMyHealth®', 'Font Studio- Photo Texts Image',\n",
              "       'Food Calorie Calculator', 'Food Network',\n",
              "       'Fooducate Healthy Weight Loss & Calorie Counter',\n",
              "       'Foot Mercato : transferts, résultats, news, live',\n",
              "       'Football Live Scores', 'ForecaWeather',\n",
              "       'Fortune City - A Finance App', 'Four In A Line',\n",
              "       'Four In A Line Free', 'Foursquare City Guide',\n",
              "       'Foursquare Swarm: Check In', 'Fox Business',\n",
              "       'Fox News – Breaking News, Live Video & News Alerts',\n",
              "       'Fraction Calculator Plus Free', 'Free & Premium VPN - FinchVPN',\n",
              "       'Free Dating & Flirt Chat - Choice of Love',\n",
              "       'Free Dating App & Flirt Chat - Cheers',\n",
              "       'Free Dating App & Flirt Chat - Match with Singles',\n",
              "       'Free Dating App - Meet Local Singles - Flirt Chat',\n",
              "       'Free Dating App - YoCutie - Flirt, Chat & Meet',\n",
              "       'Free Dating Hook Up Messenger',\n",
              "       'Free Foreclosure Real Estate Search by USHUD.com',\n",
              "       'Free Hypnosis', 'Free Live Talk-Video Call',\n",
              "       'Free Panda Radio Music', 'Free Sports TV',\n",
              "       'Free TV Shows App:News, TV Series, Episode, Movies',\n",
              "       'Free VIN Report for Used Cars', 'Free live weather on screen',\n",
              "       'Free phone calls, free texting SMS on free number',\n",
              "       'FreePrints – Free Photos Delivered',\n",
              "       'Freeletics: Personal Trainer & Fitness Workouts',\n",
              "       'Freeme Launcher—Stylish Theme', 'Fresh EBT - Food Stamp Balance',\n",
              "       'FreshBooks Classic', 'Frontback - Social Photos',\n",
              "       'Frozen Free Fall', 'Fruit Block - Puzzle Legend', 'Fruit Ninja®',\n",
              "       'Fruits Bomb', 'Fuelio: Gas log & costs', 'Full Screen Caller ID',\n",
              "       'Fun Kid Racing', 'Fun Kid Racing - Motocross',\n",
              "       'Funny Alarm Clock Ringtones', 'Funny Pics',\n",
              "       'Fuzzy Seasons: Animal Forest', 'G Cloud Backup',\n",
              "       'GANMA! - オリジナル漫画が全話無料で読み放題',\n",
              "       'GCash - Buy Load, Pay Bills, Send Money', 'GMAT Math Flashcards',\n",
              "       'GMAT Question Bank', 'GMX Mail',\n",
              "       'GO Keyboard - Cute Emojis, Themes and GIFs',\n",
              "       'GO Keyboard - Emoticon keyboard, Free Theme, GIF', 'GO Notifier',\n",
              "       'GO SMS Pro - Messenger, Free Themes, Emoji',\n",
              "       'GO Weather - Widget, Theme, Wallpaper, Efficient', 'GPS Map Free',\n",
              "       'GPS Speedometer and Odometer', 'GPS Speedometer, Distance Meter',\n",
              "       'GPS Status & Toolbox',\n",
              "       'GPS Traffic Speedcam Route Planner by ViaMichelin',\n",
              "       'GRE Flashcards', 'GRE Prep & Practice by Magoosh', 'GRE Tutor',\n",
              "       'GS SHOP', 'GUNSHIP BATTLE: Helicopter 3D',\n",
              "       'Galactic Core Free Wallpaper', 'Galaxy Attack: Alien Shooter',\n",
              "       'Game of Thrones: Conquest™',\n",
              "       'Gametime - Tickets to Sports, Concerts, Theater',\n",
              "       'Garden Coloring Book', 'Garden Fruit Legend',\n",
              "       'Garden Photo Frames - Garden Photo Editor', 'Gardenscapes',\n",
              "       'Garena Free Fire', 'Garmin Connect™', 'GasBuddy: Find Cheap Gas',\n",
              "       'Gay Sugar Daddy Dating & Hookup – Sudy Gay',\n",
              "       'Gboard - the Google Keyboard', 'Gems or jewels ?',\n",
              "       'Genius Scan - PDF Scanner', 'Gmail', 'GoBank',\n",
              "       'GoPro (formerly Capture)', 'Goal Live Scores',\n",
              "       'Goibibo - Flight Hotel Bus Car IRCTC Booking App',\n",
              "       'Goku Wallpaper Art', 'Gold Butterfly Keyboard Theme',\n",
              "       'Golden Dictionary (EN-AR)', 'Golden Launcher',\n",
              "       'Goldstar: Live Event Tickets', 'Golf Channel',\n",
              "       'Golf GPS Rangefinder: Golf Pad', 'Golf GPS by SwingxSwing',\n",
              "       'GolfLogix GPS + Putt Breaks',\n",
              "       'GolfNow: Tee Time Deals at Golf Courses, Golf GPS',\n",
              "       'Golfshot Plus: Golf GPS', 'Golfshot: Golf GPS + Tee Times',\n",
              "       'GoodRx Drug Prices and Coupons', 'Google', 'Google Ads',\n",
              "       'Google Duo - High Quality Video Calls', 'Google Earth',\n",
              "       'Google Fit - Fitness Tracking', 'Google Handwriting Input',\n",
              "       'Google Keep', 'Google My Business', 'Google News',\n",
              "       'Google PDF Viewer', 'Google Pay', 'Google Photos',\n",
              "       'Google Primer', 'Google Slides', 'Google Street View',\n",
              "       'Google Translate', 'Google Trips - Travel Planner',\n",
              "       'Google Voice', 'Google+', 'Granny', 'Graphing Calculator',\n",
              "       'Grim Soul: Dark Fantasy Survival',\n",
              "       'Groovebook Photo Books & Gifts', 'GroupMe',\n",
              "       'Groupon - Shop Deals, Discounts & Coupons',\n",
              "       'Grubhub: Food Delivery', 'Guns of Glory',\n",
              "       'Gyft - Mobile Gift Card Wallet', 'H Pack', 'H TV', 'H&M',\n",
              "       'HBO GO: Stream with TV Package', 'HD Camera',\n",
              "       'HD Camera - Best Cam with filters & panorama',\n",
              "       'HD Camera - Quick Snap Photo & Video',\n",
              "       'HD Camera Pro for Android', 'HD Camera Ultra',\n",
              "       'HD Camera for Android', 'HD Movie Video Player',\n",
              "       'HD Video Player', 'HD Widgets', 'HDFC Bank MobileBanking',\n",
              "       'HESI A2 Pocket Prep',\n",
              "       'HISTORY: Watch TV Show Full Episodes & Specials', 'HTC Calendar',\n",
              "       'HTC File Manager', 'HTC Gallery', 'HTC Help', 'HTC Lock Screen',\n",
              "       'HTC Mail', 'HTC Sense Input', 'HTC Sense Input-AR',\n",
              "       'HTC Service － DLNA', 'HTC Service—Video Player',\n",
              "       'HTC Social Plugin - Facebook', 'HTC Speak', 'HTC Weather',\n",
              "       \"Hacker's Keyboard\", 'Hairstyles step by step',\n",
              "       'Hamilton — The Official App', 'Hangouts', 'Happify',\n",
              "       'Happy Birthday Songs Offline', 'Happy Fruits Bomb - Cube Blast',\n",
              "       'Happy Street', 'Harkins Theatres',\n",
              "       'Harry Potter: Hogwarts Mystery', 'HauteLook', 'Hay Day',\n",
              "       'Haystack TV: Local & World News - Free',\n",
              "       'Headspace: Meditation & Mindfulness',\n",
              "       'Health and Nutrition Guide', 'HealtheLife',\n",
              "       'Healthy Recipes Free', 'Helix Jump', 'Hello Kitty Lunchbox',\n",
              "       'Hello Kitty Nail Salon', 'Hello Stars',\n",
              "       'HelloTalk — Chat, Speak & Learn Foreign Languages',\n",
              "       'Hero Hunters', 'Herpes Dating: 1,000K+ Singles',\n",
              "       'Herpes Positive Singles Dating',\n",
              "       'Hide App, Private Dating, Safe Chat - PrivacyHider',\n",
              "       'Hide Something - Photo, Video', 'Hideman VPN',\n",
              "       'High Blood Pressure Symptoms', 'High-Powered Flashlight',\n",
              "       'High-Speed Camera (GIF,Burst)', 'Hill Climb Racing',\n",
              "       'Hill Climb Racing 2', 'Hily: Dating, Chat, Match, Meet & Hook up',\n",
              "       'Hinge: Dating & Relationships', 'HipChat - Chat Built for Teams',\n",
              "       'Hipmunk Hotels & Flights', 'Hitwe - meet people and chat',\n",
              "       'Hole19: Golf GPS App, Rangefinder & Scorecard',\n",
              "       'Home Decor Showpiece Art making: Medium Difficulty',\n",
              "       'Home Scouting® MLS Mobile',\n",
              "       'Home Security Camera WardenCam - reuse old phones',\n",
              "       'Home Street – Home Design Game', 'Home Workout - No Equipment',\n",
              "       'Home Workout for Men - Bodybuilding',\n",
              "       'Home workouts - fat burning, abs, legs, arms,chest', 'HomeWork',\n",
              "       'Homes.com 🏠 For Sale, Rent', 'Homescapes',\n",
              "       'Homesnap Real Estate & Rentals',\n",
              "       'Homestyler Interior Design & Decorating Ideas',\n",
              "       'Homework Planner', 'Honkai Impact 3rd',\n",
              "       'Hopper - Watch & Book Flights',\n",
              "       'Horoscopes – Daily Zodiac Horoscope and Astrology',\n",
              "       'Horses Live Wallpaper',\n",
              "       'Hostelworld: Hostels & Cheap Hotels Travel App',\n",
              "       'Hot Wheels: Race Off',\n",
              "       'HotelTonight: Book amazing deals at great hotels',\n",
              "       'Hotels Combined - Cheap deals',\n",
              "       'Hotels.com: Book Hotel Rooms & Find Vacation Deals',\n",
              "       'Hotspot Shield Free VPN Proxy & Wi-Fi Security', 'Hotstar',\n",
              "       'Hotwire Hotel & Car Rental App', 'Housing-Real Estate & Property'],\n",
              "      dtype=object)"
            ]
          },
          "metadata": {},
          "execution_count": 57
        }
      ]
    },
    {
      "cell_type": "code",
      "metadata": {
        "colab": {
          "base_uri": "https://localhost:8080/"
        },
        "id": "qEwysSAVBad0",
        "outputId": "71955b98-9a36-465c-b82f-81d9c883c7e6"
      },
      "source": [
        "len(psd_ur.App.unique())"
      ],
      "execution_count": 58,
      "outputs": [
        {
          "output_type": "execute_result",
          "data": {
            "text/plain": [
              "865"
            ]
          },
          "metadata": {},
          "execution_count": 58
        }
      ]
    },
    {
      "cell_type": "code",
      "metadata": {
        "id": "2eeRkW4RN2yC"
      },
      "source": [
        "likert = {\n",
        "  \"Negative\": -1,\n",
        "  \"Neutral\": 0,\n",
        "  \"Positive\": 1\n",
        "}\n",
        "psd_ur.Sentiment = psd_ur.Sentiment.apply(lambda x: likert[x]).copy()\n",
        "psd_ur_mean = psd_ur.groupby(\"App\").mean().copy()"
      ],
      "execution_count": 59,
      "outputs": []
    },
    {
      "cell_type": "code",
      "metadata": {
        "id": "-wyt_IJcCaHY"
      },
      "source": [
        "psd_ur.drop_duplicates(\"App\", inplace=True)"
      ],
      "execution_count": 60,
      "outputs": []
    },
    {
      "cell_type": "code",
      "metadata": {
        "colab": {
          "base_uri": "https://localhost:8080/"
        },
        "id": "eG4rRji0Cln9",
        "outputId": "d16848ea-c541-4298-eeb7-af34aee40c92"
      },
      "source": [
        "psd_ur.shape"
      ],
      "execution_count": 61,
      "outputs": [
        {
          "output_type": "execute_result",
          "data": {
            "text/plain": [
              "(865, 4)"
            ]
          },
          "metadata": {},
          "execution_count": 61
        }
      ]
    },
    {
      "cell_type": "code",
      "metadata": {
        "id": "cCWB5AoTCwxH"
      },
      "source": [
        "psd_ur = psd_ur.reset_index().drop(\"index\", axis=1).copy()"
      ],
      "execution_count": 62,
      "outputs": []
    },
    {
      "cell_type": "code",
      "metadata": {
        "colab": {
          "base_uri": "https://localhost:8080/",
          "height": 265
        },
        "id": "CnlOpMNADbW-",
        "outputId": "be1a3ef3-4a5d-472c-e406-732e8e8bd54e"
      },
      "source": [
        "plt.hist(psd_ur['Sentiment_Polarity'], bins = 20)\n",
        "plt.show()"
      ],
      "execution_count": 63,
      "outputs": [
        {
          "output_type": "display_data",
          "data": {
            "image/png": "[encoded data removed]",
            "text/plain": [
              "<Figure size 432x288 with 1 Axes>"
            ]
          },
          "metadata": {
            "needs_background": "light"
          }
        }
      ]
    },
    {
      "cell_type": "code",
      "metadata": {
        "colab": {
          "base_uri": "https://localhost:8080/"
        },
        "id": "9J9vMzF8EpHZ",
        "outputId": "e76de8cd-7ae5-4378-baeb-a9ff8b4f1b45"
      },
      "source": [
        "psd_ur['Sentiment'].value_counts()"
      ],
      "execution_count": 64,
      "outputs": [
        {
          "output_type": "execute_result",
          "data": {
            "text/plain": [
              " 1    577\n",
              "-1    204\n",
              " 0     84\n",
              "Name: Sentiment, dtype: int64"
            ]
          },
          "metadata": {},
          "execution_count": 64
        }
      ]
    }
  ]
}